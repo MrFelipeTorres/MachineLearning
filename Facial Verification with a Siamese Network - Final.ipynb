{
 "cells": [
  {
   "cell_type": "markdown",
   "metadata": {},
   "source": [
    "# App de Reconhecimento Facial\n",
    "Programa de Pós-Graduação em Ciência da Computação da Universidade Federal de Campina Grande\n",
    "\n",
    "Disciplina: Aprendizado de Máquina\n",
    "\n",
    "Professor: Leandro Balbi\n",
    "\n",
    "Aluno: Felipe Torres Leite\n",
    "\n",
    "Projeto final para construir um app de reconhecimento facial, a partir do tutorial: https://www.youtube.com/watch?v=LKispFFQ5GU\n",
    "\n",
    "Tarefa: https://canvas.instructure.com/courses/5142637/assignments/33684829"
   ]
  },
  {
   "cell_type": "markdown",
   "metadata": {},
   "source": [
    "# 1. Setup"
   ]
  },
  {
   "cell_type": "markdown",
   "metadata": {},
   "source": [
    "## 1.1 Install Dependencies"
   ]
  },
  {
   "cell_type": "code",
   "execution_count": null,
   "metadata": {},
   "outputs": [],
   "source": [
    "#!pip install tensorflow==2.5.0 tensorflow-gpu==2.5.0 --user opencv-python matplotlib"
   ]
  },
  {
   "cell_type": "markdown",
   "metadata": {},
   "source": [
    "Instalando o TensorFlow, biblioteca de código aberto de aprendizado de máquina usada para reconhecimento de padrões em redes neurais. Para melhorar o desempenho, também está sendo usada a tensorflow-gpu, criando um processador dedicado para processar as informações gráficas que serão usadas.\n",
    "\n",
    "Opencv é uma biblioteca bastante utilizada na computação gráfica e será utilizada no momento de execução da aplicação. Matplotlib é uma biblioteca de software para criação de gráficos e visualizações de dados em geral que irá ajudar também na execução deste app."
   ]
  },
  {
   "cell_type": "markdown",
   "metadata": {},
   "source": [
    "## 1.2 Import Dependencies"
   ]
  },
  {
   "cell_type": "code",
   "execution_count": 2,
   "metadata": {},
   "outputs": [],
   "source": [
    "# Import standard dependencies\n",
    "import cv2\n",
    "import os\n",
    "import random\n",
    "import numpy as np\n",
    "from matplotlib import pyplot as plt"
   ]
  },
  {
   "cell_type": "code",
   "execution_count": 3,
   "metadata": {},
   "outputs": [],
   "source": [
    "# Import tensorflow dependencies - Functional API\n",
    "from tensorflow.keras.models import Model\n",
    "from tensorflow.keras.layers import Layer, Conv2D, Dense, MaxPooling2D, Input, Flatten\n",
    "import tensorflow as tf"
   ]
  },
  {
   "cell_type": "markdown",
   "metadata": {},
   "source": [
    "Importando as dependências para utilizar no Deep Learning que será aplicado aqui no app. O Keras é outra biblioteca, que roda em cima do TensorFlow, para redes neurais com deep learning.\n",
    "\n",
    "Aqui são importas as dependências para a construção do app, em como vai lidar com as imagens que serão utilizadas para treinamento, reconhecimento e mostrá-las em um gráfico 2D durante a execução."
   ]
  },
  {
   "cell_type": "markdown",
   "metadata": {},
   "source": [
    "## 1.3 Set GPU Growth"
   ]
  },
  {
   "cell_type": "code",
   "execution_count": 4,
   "metadata": {},
   "outputs": [],
   "source": [
    "# Avoid OOM errors by setting GPU Memory Consumption Growth\n",
    "gpus = tf.config.experimental.list_physical_devices('GPU')\n",
    "for gpu in gpus: \n",
    "    tf.config.experimental.set_memory_growth(gpu, True)"
   ]
  },
  {
   "cell_type": "markdown",
   "metadata": {},
   "source": [
    "Esta seção de código só existe porque será usado o GPU na execução e serve para evitar erros de falta de memória."
   ]
  },
  {
   "cell_type": "code",
   "execution_count": 5,
   "metadata": {
    "scrolled": true
   },
   "outputs": [
    {
     "data": {
      "text/plain": [
       "0"
      ]
     },
     "execution_count": 5,
     "metadata": {},
     "output_type": "execute_result"
    }
   ],
   "source": [
    "len(gpus)"
   ]
  },
  {
   "cell_type": "markdown",
   "metadata": {},
   "source": [
    "Quantidade de GPUs utilizadas."
   ]
  },
  {
   "cell_type": "markdown",
   "metadata": {},
   "source": [
    "## 1.4 Create Folder Structures"
   ]
  },
  {
   "cell_type": "code",
   "execution_count": 6,
   "metadata": {},
   "outputs": [],
   "source": [
    "# Setup paths\n",
    "POS_PATH = os.path.join('data', 'positive')\n",
    "NEG_PATH = os.path.join('data', 'negative')\n",
    "ANC_PATH = os.path.join('data', 'anchor')"
   ]
  },
  {
   "cell_type": "code",
   "execution_count": 5,
   "metadata": {
    "collapsed": true
   },
   "outputs": [
    {
     "ename": "FileExistsError",
     "evalue": "[WinError 183] Não é possível criar um arquivo já existente: 'data\\\\positive'",
     "output_type": "error",
     "traceback": [
      "\u001b[1;31m---------------------------------------------------------------------------\u001b[0m",
      "\u001b[1;31mFileExistsError\u001b[0m                           Traceback (most recent call last)",
      "\u001b[1;32m~\\AppData\\Local\\Temp\\ipykernel_14864\\2704642804.py\u001b[0m in \u001b[0;36m<module>\u001b[1;34m\u001b[0m\n\u001b[0;32m      1\u001b[0m \u001b[1;31m# Make the directories\u001b[0m\u001b[1;33m\u001b[0m\u001b[1;33m\u001b[0m\u001b[0m\n\u001b[1;32m----> 2\u001b[1;33m \u001b[0mos\u001b[0m\u001b[1;33m.\u001b[0m\u001b[0mmakedirs\u001b[0m\u001b[1;33m(\u001b[0m\u001b[0mPOS_PATH\u001b[0m\u001b[1;33m)\u001b[0m\u001b[1;33m\u001b[0m\u001b[1;33m\u001b[0m\u001b[0m\n\u001b[0m\u001b[0;32m      3\u001b[0m \u001b[0mos\u001b[0m\u001b[1;33m.\u001b[0m\u001b[0mmakedirs\u001b[0m\u001b[1;33m(\u001b[0m\u001b[0mNEG_PATH\u001b[0m\u001b[1;33m)\u001b[0m\u001b[1;33m\u001b[0m\u001b[1;33m\u001b[0m\u001b[0m\n\u001b[0;32m      4\u001b[0m \u001b[0mos\u001b[0m\u001b[1;33m.\u001b[0m\u001b[0mmakedirs\u001b[0m\u001b[1;33m(\u001b[0m\u001b[0mANC_PATH\u001b[0m\u001b[1;33m)\u001b[0m\u001b[1;33m\u001b[0m\u001b[1;33m\u001b[0m\u001b[0m\n",
      "\u001b[1;32m~\\anaconda3\\lib\\os.py\u001b[0m in \u001b[0;36mmakedirs\u001b[1;34m(name, mode, exist_ok)\u001b[0m\n\u001b[0;32m    223\u001b[0m             \u001b[1;32mreturn\u001b[0m\u001b[1;33m\u001b[0m\u001b[1;33m\u001b[0m\u001b[0m\n\u001b[0;32m    224\u001b[0m     \u001b[1;32mtry\u001b[0m\u001b[1;33m:\u001b[0m\u001b[1;33m\u001b[0m\u001b[1;33m\u001b[0m\u001b[0m\n\u001b[1;32m--> 225\u001b[1;33m         \u001b[0mmkdir\u001b[0m\u001b[1;33m(\u001b[0m\u001b[0mname\u001b[0m\u001b[1;33m,\u001b[0m \u001b[0mmode\u001b[0m\u001b[1;33m)\u001b[0m\u001b[1;33m\u001b[0m\u001b[1;33m\u001b[0m\u001b[0m\n\u001b[0m\u001b[0;32m    226\u001b[0m     \u001b[1;32mexcept\u001b[0m \u001b[0mOSError\u001b[0m\u001b[1;33m:\u001b[0m\u001b[1;33m\u001b[0m\u001b[1;33m\u001b[0m\u001b[0m\n\u001b[0;32m    227\u001b[0m         \u001b[1;31m# Cannot rely on checking for EEXIST, since the operating system\u001b[0m\u001b[1;33m\u001b[0m\u001b[1;33m\u001b[0m\u001b[0m\n",
      "\u001b[1;31mFileExistsError\u001b[0m: [WinError 183] Não é possível criar um arquivo já existente: 'data\\\\positive'"
     ]
    }
   ],
   "source": [
    "# Make the directories\n",
    "os.makedirs(POS_PATH)\n",
    "os.makedirs(NEG_PATH)\n",
    "os.makedirs(ANC_PATH)"
   ]
  },
  {
   "cell_type": "markdown",
   "metadata": {},
   "source": [
    "É criada uma estrutura de pastas/diretórios 'anchor', 'negative' e 'positive' para serem passados os dados (imagens).\n",
    "\n",
    "**Imagem Âncora**: Imagem passada como entrada que é a imagem correta que é passada. Corresponde à imagem capturada da câmera durante a execução do app.\n",
    "\n",
    "As outras duas estruturas correspondem à imagem que será comparada com a Imagem Âncora.\n",
    "\n",
    "**Imagem Negativa**: Quando a imagem NÃO corresponder à imagem âncora (RESULTADO NEGATIVO/FALSO).\n",
    "\n",
    "**Imagem Positiva**: Quando a imagem corresponder à imagem âncora (RESULTADO POSITIVO/VERDADEIRO).\n",
    "\n",
    "Assim, a rede neural poderá reconhecer se a imagem a ser comparada com a imagem âncora é SEMELHANTE (Positiva) ou é DIFERENTE (Negativa).\n"
   ]
  },
  {
   "cell_type": "markdown",
   "metadata": {},
   "source": [
    "# 2. Collect Positives and Anchors"
   ]
  },
  {
   "cell_type": "markdown",
   "metadata": {},
   "source": [
    "Será utilizado um repositório de imagens rotuladas disponíveis na internet.\n",
    "\n",
    "As imagens rotuladas serão utilizadas como Imagens Negativas para o treinamento da rede.\n",
    "\n",
    "As imagens Âncora e Positivas serão imagens de entrada, capturadas pela câmera durante a execução do app. Serão imagens capturadas em momentos distintos mas naturalmente serão semelhantes (positivas). As imagens positivas serão utilizadas para treinar a rede neural para detectar a semelhança quando a imagem âncora for passada como parâmetro de entrada.\n",
    "\n",
    "As imagens âncora serão utilizadas em tempo de execução como parâmetro para serem avaliadas pela rede neural. O modelo, já treinado com as imagens positivas e negativas, irá apresentar o resultado final comparando a imagem passada em tempo real com o que ela já aprendeu, a partir de seu treinamento. \n",
    "\n",
    "Assim, resultada em verdadeiro quando a imagem âncora for SEMELHANTE à POSITIVA ou falso quando NÃO FOR SEMELHANTE à POSITIVA."
   ]
  },
  {
   "cell_type": "markdown",
   "metadata": {},
   "source": [
    "## 2.1 Untar Labelled Faces in the Wild Dataset"
   ]
  },
  {
   "cell_type": "code",
   "execution_count": null,
   "metadata": {},
   "outputs": [],
   "source": [
    "# http://vis-www.cs.umass.edu/lfw/"
   ]
  },
  {
   "cell_type": "markdown",
   "metadata": {},
   "source": [
    "Repositório de imagens rotuladas para serem usadas como imagens negativas."
   ]
  },
  {
   "cell_type": "code",
   "execution_count": null,
   "metadata": {},
   "outputs": [],
   "source": [
    "# Uncompress Tar GZ Labelled Faces in the Wild Dataset\n",
    "#!tar -xf lfw.tgz"
   ]
  },
  {
   "cell_type": "markdown",
   "metadata": {},
   "source": [
    "Baixando as imagens rotuladas para serem utilizadas no treinamento da rede neural, descompactando e adicionando uma nova pasta (lfw) onde estão as imagens baixadas ao repositório do app. O rótulo mencionado significa que as imagens estão organizadas em subpastas nomeadas com o nome da pessoa que corresponde à(s) imagem(ns) na respectiva subpasta.\n",
    "\n",
    "Inicialmente, todas estas imagens estão na pasta/diretório 'lfw'."
   ]
  },
  {
   "cell_type": "code",
   "execution_count": 6,
   "metadata": {},
   "outputs": [],
   "source": [
    "# Move LFW Images to the following repository data/negative\n",
    "for directory in os.listdir('lfw'):\n",
    "    for file in os.listdir(os.path.join('lfw', directory)):\n",
    "        EX_PATH = os.path.join('lfw', directory, file)\n",
    "        NEW_PATH = os.path.join(NEG_PATH, file)\n",
    "        os.replace(EX_PATH, NEW_PATH)"
   ]
  },
  {
   "cell_type": "markdown",
   "metadata": {},
   "source": [
    "Movendo os arquivos (imagens) de 'lfw' para o nosso diretório de imagens negativas 'data/negative'."
   ]
  },
  {
   "cell_type": "markdown",
   "metadata": {},
   "source": [
    "## 2.2 Collect Positive and Anchor Classes"
   ]
  },
  {
   "cell_type": "markdown",
   "metadata": {},
   "source": [
    "Esta seção faz a conexão com a webcam para capturar as imagens âncora e positivas, configurando-as para o mesmo formato (250x250 px) correspondente ao formato das imagens rotuladas que já foram adicionadas na pasta 'negative'."
   ]
  },
  {
   "cell_type": "code",
   "execution_count": 7,
   "metadata": {},
   "outputs": [],
   "source": [
    "# Import uuid library to generate unique image names\n",
    "import uuid"
   ]
  },
  {
   "cell_type": "code",
   "execution_count": 8,
   "metadata": {},
   "outputs": [
    {
     "data": {
      "text/plain": [
       "'data\\\\anchor\\\\60d898f1-725b-11ed-8dcd-082e5f739565.jpg'"
      ]
     },
     "execution_count": 8,
     "metadata": {},
     "output_type": "execute_result"
    }
   ],
   "source": [
    "os.path.join(ANC_PATH, '{}.jpg'.format(uuid.uuid1()))"
   ]
  },
  {
   "cell_type": "code",
   "execution_count": 13,
   "metadata": {},
   "outputs": [],
   "source": [
    "# Establish a connection to the webcam\n",
    "cap = cv2.VideoCapture(0)\n",
    "while cap.isOpened(): \n",
    "    ret, frame = cap.read()\n",
    "   \n",
    "    # Cut down frame to 250x250px\n",
    "    frame = frame[120:120+250,200:200+250, :]\n",
    "    \n",
    "    # Collect anchors \n",
    "    if cv2.waitKey(1) & 0XFF == ord('a'):\n",
    "        # Create the unique file path \n",
    "        imgname = os.path.join(ANC_PATH, '{}.jpg'.format(uuid.uuid1()))\n",
    "        # Write out anchor image\n",
    "        cv2.imwrite(imgname, frame)\n",
    "    \n",
    "    # Collect positives\n",
    "    if cv2.waitKey(1) & 0XFF == ord('p'):\n",
    "        # Create the unique file path \n",
    "        imgname = os.path.join(POS_PATH, '{}.jpg'.format(uuid.uuid1()))\n",
    "        # Write out positive image\n",
    "        cv2.imwrite(imgname, frame)\n",
    "    \n",
    "    # Show image back to screen\n",
    "    cv2.imshow('Image Collection', frame)\n",
    "    \n",
    "    # Breaking gracefully\n",
    "    if cv2.waitKey(1) & 0XFF == ord('q'):\n",
    "        break\n",
    "        \n",
    "# Release the webcam\n",
    "cap.release()\n",
    "# Close the image show frame\n",
    "cv2.destroyAllWindows()"
   ]
  },
  {
   "cell_type": "markdown",
   "metadata": {},
   "source": [
    "Após estabelecer uma conexão com a webcam para captura de imagens em tempo de execução, um loopp é iniciado para adicionar imagens reais capturadas para serem utilizadas no treinamento da rede siamesa. As imagens capturadas devem ser adicionadas nas pastas ANCHOR e POSITIVE conforme execução dos comandos 'a' e 'p', respectivamente. A quantidade de imagens capturadas e adicionadas em ambas as pastas impactará na eficácia do treinamento do modelo para reconhecimento de imagens, posteriormente. Portanto, deve-se haver uma quantidade considerável de arquivos de imagens. Para encerrar o loop da execução da webcam, o comando 'q' deve ser acionado.\n",
    "\n",
    "*Optei adicionar pelo menos uma quantidade superior a 100 imagens para ambas as pastas.*\n"
   ]
  },
  {
   "cell_type": "markdown",
   "metadata": {},
   "source": [
    "A imagem é tratada para ser capturada na proporção de 250:250px para corresponder à mesma proporção das imagens rotuladas que estão na pasta NEGATIVE, para padronizar os arquivos para o treinamento da rede."
   ]
  },
  {
   "cell_type": "code",
   "execution_count": 14,
   "metadata": {},
   "outputs": [
    {
     "data": {
      "text/plain": [
       "(250, 250, 3)"
      ]
     },
     "execution_count": 14,
     "metadata": {},
     "output_type": "execute_result"
    }
   ],
   "source": [
    "frame.shape"
   ]
  },
  {
   "cell_type": "code",
   "execution_count": 15,
   "metadata": {},
   "outputs": [
    {
     "data": {
      "text/plain": [
       "<matplotlib.image.AxesImage at 0x204315cb400>"
      ]
     },
     "execution_count": 15,
     "metadata": {},
     "output_type": "execute_result"
    },
    {
     "data": {
      "image/png": "[encoded data removed]",
      "text/plain": [
       "<Figure size 640x480 with 1 Axes>"
      ]
     },
     "metadata": {},
     "output_type": "display_data"
    }
   ],
   "source": [
    "plt.imshow(frame)"
   ]
  },
  {
   "cell_type": "markdown",
   "metadata": {},
   "source": [
    "# 2.x NEW - Data Augmentation"
   ]
  },
  {
   "cell_type": "code",
   "execution_count": 16,
   "metadata": {},
   "outputs": [],
   "source": [
    "def data_aug(img):\n",
    "    data = []\n",
    "    for i in range(9):\n",
    "        img = tf.image.stateless_random_brightness(img, max_delta=0.02, seed=(1,2))\n",
    "        img = tf.image.stateless_random_contrast(img, lower=0.6, upper=1, seed=(1,3))\n",
    "        # img = tf.image.stateless_random_crop(img, size=(20,20,3), seed=(1,2))\n",
    "        img = tf.image.stateless_random_flip_left_right(img, seed=(np.random.randint(100),np.random.randint(100)))\n",
    "        img = tf.image.stateless_random_jpeg_quality(img, min_jpeg_quality=90, max_jpeg_quality=100, seed=(np.random.randint(100),np.random.randint(100)))\n",
    "        img = tf.image.stateless_random_saturation(img, lower=0.9,upper=1, seed=(np.random.randint(100),np.random.randint(100)))\n",
    "            \n",
    "        data.append(img)\n",
    "    \n",
    "    return data"
   ]
  },
  {
   "cell_type": "code",
   "execution_count": 17,
   "metadata": {},
   "outputs": [],
   "source": [
    "import os\n",
    "import uuid"
   ]
  },
  {
   "cell_type": "code",
   "execution_count": 18,
   "metadata": {},
   "outputs": [],
   "source": [
    "img_path = os.path.join(ANC_PATH, 'a11cd416-71f8-11ed-885c-082e5f739565.jpg')\n",
    "img = cv2.imread(img_path)\n",
    "augmented_images = data_aug(img)\n",
    "\n",
    "for image in augmented_images:\n",
    "    cv2.imwrite(os.path.join(ANC_PATH, '{}.jpg'.format(uuid.uuid1())), image.numpy())"
   ]
  },
  {
   "cell_type": "code",
   "execution_count": 19,
   "metadata": {
    "collapsed": true,
    "tags": []
   },
   "outputs": [
    {
     "ename": "KeyboardInterrupt",
     "evalue": "",
     "output_type": "error",
     "traceback": [
      "\u001b[1;31m---------------------------------------------------------------------------\u001b[0m",
      "\u001b[1;31mKeyboardInterrupt\u001b[0m                         Traceback (most recent call last)",
      "\u001b[1;32m~\\AppData\\Local\\Temp\\ipykernel_1304\\3903924256.py\u001b[0m in \u001b[0;36m<module>\u001b[1;34m\u001b[0m\n\u001b[0;32m      5\u001b[0m \u001b[1;33m\u001b[0m\u001b[0m\n\u001b[0;32m      6\u001b[0m     \u001b[1;32mfor\u001b[0m \u001b[0mimage\u001b[0m \u001b[1;32min\u001b[0m \u001b[0maugmented_images\u001b[0m\u001b[1;33m:\u001b[0m\u001b[1;33m\u001b[0m\u001b[1;33m\u001b[0m\u001b[0m\n\u001b[1;32m----> 7\u001b[1;33m         \u001b[0mcv2\u001b[0m\u001b[1;33m.\u001b[0m\u001b[0mimwrite\u001b[0m\u001b[1;33m(\u001b[0m\u001b[0mos\u001b[0m\u001b[1;33m.\u001b[0m\u001b[0mpath\u001b[0m\u001b[1;33m.\u001b[0m\u001b[0mjoin\u001b[0m\u001b[1;33m(\u001b[0m\u001b[0mPOS_PATH\u001b[0m\u001b[1;33m,\u001b[0m \u001b[1;34m'{}.jpg'\u001b[0m\u001b[1;33m.\u001b[0m\u001b[0mformat\u001b[0m\u001b[1;33m(\u001b[0m\u001b[0muuid\u001b[0m\u001b[1;33m.\u001b[0m\u001b[0muuid1\u001b[0m\u001b[1;33m(\u001b[0m\u001b[1;33m)\u001b[0m\u001b[1;33m)\u001b[0m\u001b[1;33m)\u001b[0m\u001b[1;33m,\u001b[0m \u001b[0mimage\u001b[0m\u001b[1;33m.\u001b[0m\u001b[0mnumpy\u001b[0m\u001b[1;33m(\u001b[0m\u001b[1;33m)\u001b[0m\u001b[1;33m)\u001b[0m\u001b[1;33m\u001b[0m\u001b[1;33m\u001b[0m\u001b[0m\n\u001b[0m",
      "\u001b[1;31mKeyboardInterrupt\u001b[0m: "
     ]
    }
   ],
   "source": [
    "for file_name in os.listdir(os.path.join(POS_PATH)):\n",
    "    img_path = os.path.join(POS_PATH, file_name)\n",
    "    img = cv2.imread(img_path)\n",
    "    augmented_images = data_aug(img) \n",
    "    \n",
    "    for image in augmented_images:\n",
    "        cv2.imwrite(os.path.join(POS_PATH, '{}.jpg'.format(uuid.uuid1())), image.numpy())"
   ]
  },
  {
   "cell_type": "markdown",
   "metadata": {},
   "source": [
    "# 3. Load and Preprocess Images"
   ]
  },
  {
   "cell_type": "markdown",
   "metadata": {},
   "source": [
    "Agora, vai iniciar o pré-processamento das imagens carregadas no diretório de dados."
   ]
  },
  {
   "cell_type": "markdown",
   "metadata": {},
   "source": [
    "## 3.1 Get Image Directories"
   ]
  },
  {
   "cell_type": "code",
   "execution_count": 20,
   "metadata": {},
   "outputs": [],
   "source": [
    "anchor = tf.data.Dataset.list_files(ANC_PATH+'\\*.jpg').take(3000)\n",
    "positive = tf.data.Dataset.list_files(POS_PATH+'\\*.jpg').take(3000)\n",
    "negative = tf.data.Dataset.list_files(NEG_PATH+'\\*.jpg').take(3000)"
   ]
  },
  {
   "cell_type": "code",
   "execution_count": 21,
   "metadata": {},
   "outputs": [],
   "source": [
    "dir_test = anchor.as_numpy_iterator()"
   ]
  },
  {
   "cell_type": "code",
   "execution_count": 22,
   "metadata": {
    "scrolled": true
   },
   "outputs": [
    {
     "name": "stdout",
     "output_type": "stream",
     "text": [
      "b'data\\\\anchor\\\\1df6a83c-7235-11ed-a981-082e5f739565.jpg'\n"
     ]
    }
   ],
   "source": [
    "print(dir_test.next())"
   ]
  },
  {
   "cell_type": "markdown",
   "metadata": {},
   "source": [
    "Nesta seção, as pastas ANCHOR, POSITIVE e NEGATIVE são usadas para ancorar imagens verdadeiras (positivas) e falsas (negativas), criando um pipeline de todos os arquivos diferentes dos diretórios. Desta forma, durante o treinamento, cada arquivo poderá ser usado individualmente para que sejam feitas as respectivas análises da rede."
   ]
  },
  {
   "cell_type": "markdown",
   "metadata": {},
   "source": [
    "## 3.2 Preprocessing - Scale and Resize"
   ]
  },
  {
   "cell_type": "code",
   "execution_count": 23,
   "metadata": {},
   "outputs": [],
   "source": [
    "def preprocess(file_path):\n",
    "    \n",
    "    # Read in image from file path\n",
    "    byte_img = tf.io.read_file(file_path)\n",
    "    # Load in the image \n",
    "    img = tf.io.decode_jpeg(byte_img)\n",
    "    \n",
    "    # Preprocessing steps - resizing the image to be 100x100x3\n",
    "    img = tf.image.resize(img, (100,100))\n",
    "    # Scale image to be between 0 and 1 \n",
    "    img = img / 255.0\n",
    "\n",
    "    # Return image\n",
    "    return img"
   ]
  },
  {
   "cell_type": "code",
   "execution_count": 24,
   "metadata": {
    "scrolled": true,
    "tags": []
   },
   "outputs": [],
   "source": [
    "img = preprocess('data\\\\anchor\\\\a11cd416-71f8-11ed-885c-082e5f739565.jpg')"
   ]
  },
  {
   "cell_type": "code",
   "execution_count": 25,
   "metadata": {},
   "outputs": [
    {
     "data": {
      "text/plain": [
       "1.0"
      ]
     },
     "execution_count": 25,
     "metadata": {},
     "output_type": "execute_result"
    }
   ],
   "source": [
    "img.numpy().max() "
   ]
  },
  {
   "cell_type": "code",
   "execution_count": null,
   "metadata": {},
   "outputs": [],
   "source": [
    "#dataset.map(preprocess)"
   ]
  },
  {
   "cell_type": "markdown",
   "metadata": {},
   "source": [
    "Neste pré-processamento, a imagem é redimensionada para 100x100 (em 3 canais - RGB) e escalonada para ser uma variação de 0's e 1's, ao invés de 0 a 255 do RGB, para facilitar o reconhecimento de imagens pela rede. \n",
    "\n",
    "*O redimensionamento acontece para seguir o artigo utilizado como base.*"
   ]
  },
  {
   "cell_type": "markdown",
   "metadata": {},
   "source": [
    "## 3.3 Create Labelled Dataset"
   ]
  },
  {
   "cell_type": "code",
   "execution_count": null,
   "metadata": {},
   "outputs": [],
   "source": [
    "# (anchor, positive) => 1,1,1,1,1\n",
    "# (anchor, negative) => 0,0,0,0,0"
   ]
  },
  {
   "cell_type": "code",
   "execution_count": 26,
   "metadata": {},
   "outputs": [],
   "source": [
    "positives = tf.data.Dataset.zip((anchor, positive, tf.data.Dataset.from_tensor_slices(tf.ones(len(anchor)))))\n",
    "negatives = tf.data.Dataset.zip((anchor, negative, tf.data.Dataset.from_tensor_slices(tf.zeros(len(anchor)))))\n",
    "data = positives.concatenate(negatives)"
   ]
  },
  {
   "cell_type": "code",
   "execution_count": 27,
   "metadata": {},
   "outputs": [],
   "source": [
    "samples = data.as_numpy_iterator()"
   ]
  },
  {
   "cell_type": "code",
   "execution_count": 28,
   "metadata": {},
   "outputs": [],
   "source": [
    "exampple = samples.next()"
   ]
  },
  {
   "cell_type": "code",
   "execution_count": 29,
   "metadata": {
    "scrolled": true,
    "tags": []
   },
   "outputs": [
    {
     "data": {
      "text/plain": [
       "(b'data\\\\anchor\\\\371c791c-7235-11ed-92af-082e5f739565.jpg',\n",
       " b'data\\\\positive\\\\b1db3e56-725b-11ed-be54-082e5f739565.jpg',\n",
       " 1.0)"
      ]
     },
     "execution_count": 29,
     "metadata": {},
     "output_type": "execute_result"
    }
   ],
   "source": [
    "exampple"
   ]
  },
  {
   "cell_type": "markdown",
   "metadata": {},
   "source": [
    "Criando o conjunto de dados (matrizes) rotulados como sendo positivos (1) ou negativos (0)."
   ]
  },
  {
   "cell_type": "markdown",
   "metadata": {},
   "source": [
    "## 3.4 Build Train and Test Partition"
   ]
  },
  {
   "cell_type": "code",
   "execution_count": 30,
   "metadata": {},
   "outputs": [],
   "source": [
    "def preprocess_twin(input_img, validation_img, label):\n",
    "    return(preprocess(input_img), preprocess(validation_img), label) #retornando a imagem processada"
   ]
  },
  {
   "cell_type": "code",
   "execution_count": 31,
   "metadata": {},
   "outputs": [],
   "source": [
    "res = preprocess_twin(*exampple)"
   ]
  },
  {
   "cell_type": "code",
   "execution_count": 34,
   "metadata": {},
   "outputs": [
    {
     "data": {
      "text/plain": [
       "<matplotlib.image.AxesImage at 0x2043293e4f0>"
      ]
     },
     "execution_count": 34,
     "metadata": {},
     "output_type": "execute_result"
    },
    {
     "data": {
      "image/png": "[encoded data removed]",
      "text/plain": [
       "<Figure size 640x480 with 1 Axes>"
      ]
     },
     "metadata": {},
     "output_type": "display_data"
    }
   ],
   "source": [
    "plt.imshow(res[1])"
   ]
  },
  {
   "cell_type": "markdown",
   "metadata": {},
   "source": [
    "Pré-processamento das imagens e confirmando uma imagem rotulada em tamanho 100x100."
   ]
  },
  {
   "cell_type": "code",
   "execution_count": 35,
   "metadata": {
    "scrolled": true
   },
   "outputs": [
    {
     "data": {
      "text/plain": [
       "1.0"
      ]
     },
     "execution_count": 35,
     "metadata": {},
     "output_type": "execute_result"
    }
   ],
   "source": [
    "res[2]"
   ]
  },
  {
   "cell_type": "markdown",
   "metadata": {},
   "source": [
    "Rótulo como sendo 1 para a imagem exibida, que é verdadeira e portanto está correta a rotulação."
   ]
  },
  {
   "cell_type": "code",
   "execution_count": 36,
   "metadata": {},
   "outputs": [],
   "source": [
    "# Build dataloader pipeline\n",
    "data = data.map(preprocess_twin)\n",
    "data = data.cache()\n",
    "data = data.shuffle(buffer_size=10000) #embaralha as imagens para evitar criar viés"
   ]
  },
  {
   "cell_type": "code",
   "execution_count": 37,
   "metadata": {},
   "outputs": [],
   "source": [
    "# Training partition\n",
    "train_data = data.take(round(len(data)*.7))\n",
    "train_data = train_data.batch(16)\n",
    "train_data = train_data.prefetch(8)"
   ]
  },
  {
   "cell_type": "code",
   "execution_count": 38,
   "metadata": {},
   "outputs": [],
   "source": [
    "# Testing partition\n",
    "test_data = data.skip(round(len(data)*.7))\n",
    "test_data = test_data.take(round(len(data)*.3))\n",
    "test_data = test_data.batch(16)\n",
    "test_data = test_data.prefetch(8)"
   ]
  },
  {
   "cell_type": "markdown",
   "metadata": {},
   "source": [
    "Construindo o pipeline das imagens para o treinamento. Pega as imagens validadas, positivas e negativas, embaralha para realizar o treinamento e depois o teste."
   ]
  },
  {
   "cell_type": "markdown",
   "metadata": {},
   "source": [
    "One-shot: Será passada uma imagem âncora ou positiva e, em seguida, pode ser passada uma imagem separada para ser avaliada/reconhecida e o resultado é 0 ou 1 (se é a mesma pessoa ou não)"
   ]
  },
  {
   "cell_type": "markdown",
   "metadata": {},
   "source": [
    "# 4. Model Engineering"
   ]
  },
  {
   "cell_type": "markdown",
   "metadata": {},
   "source": [
    "Construindo o modelo de rede neural siamesa para reconhecimento de imagens one shot."
   ]
  },
  {
   "cell_type": "markdown",
   "metadata": {},
   "source": [
    "## 4.1 Build Embedding Layer"
   ]
  },
  {
   "cell_type": "markdown",
   "metadata": {},
   "source": [
    "Construindo as camadas da rede."
   ]
  },
  {
   "cell_type": "code",
   "execution_count": 39,
   "metadata": {},
   "outputs": [],
   "source": [
    "inp = Input(shape=(100,100,3), name='input_image')"
   ]
  },
  {
   "cell_type": "code",
   "execution_count": 40,
   "metadata": {},
   "outputs": [],
   "source": [
    "c1 = Conv2D(64, (10,10), activation='relu')(inp)"
   ]
  },
  {
   "cell_type": "code",
   "execution_count": 41,
   "metadata": {},
   "outputs": [],
   "source": [
    "m1 = MaxPooling2D(64, (2,2), padding='same')(c1)"
   ]
  },
  {
   "cell_type": "code",
   "execution_count": 42,
   "metadata": {},
   "outputs": [],
   "source": [
    "c2 = Conv2D(128, (7,7), activation='relu')(m1)\n",
    "m2 = MaxPooling2D(64, (2,2), padding='same')(c2)"
   ]
  },
  {
   "cell_type": "code",
   "execution_count": 43,
   "metadata": {},
   "outputs": [],
   "source": [
    "c3 = Conv2D(128, (4,4), activation='relu')(m2)\n",
    "m3 = MaxPooling2D(64, (2,2), padding='same')(c3)"
   ]
  },
  {
   "cell_type": "code",
   "execution_count": 44,
   "metadata": {},
   "outputs": [],
   "source": [
    "c4 = Conv2D(256, (4,4), activation='relu')(m3)\n",
    "f1 = Flatten()(c4)\n",
    "d1 = Dense(4096, activation='sigmoid')(f1)"
   ]
  },
  {
   "cell_type": "code",
   "execution_count": 45,
   "metadata": {},
   "outputs": [],
   "source": [
    "mod = Model(inputs=[inp], outputs=[d1], name='embedding')"
   ]
  },
  {
   "cell_type": "code",
   "execution_count": 46,
   "metadata": {},
   "outputs": [
    {
     "name": "stdout",
     "output_type": "stream",
     "text": [
      "Model: \"embedding\"\n",
      "_________________________________________________________________\n",
      "Layer (type)                 Output Shape              Param #   \n",
      "=================================================================\n",
      "input_image (InputLayer)     [(None, 100, 100, 3)]     0         \n",
      "_________________________________________________________________\n",
      "conv2d (Conv2D)              (None, 91, 91, 64)        19264     \n",
      "_________________________________________________________________\n",
      "max_pooling2d (MaxPooling2D) (None, 46, 46, 64)        0         \n",
      "_________________________________________________________________\n",
      "conv2d_1 (Conv2D)            (None, 40, 40, 128)       401536    \n",
      "_________________________________________________________________\n",
      "max_pooling2d_1 (MaxPooling2 (None, 20, 20, 128)       0         \n",
      "_________________________________________________________________\n",
      "conv2d_2 (Conv2D)            (None, 17, 17, 128)       262272    \n",
      "_________________________________________________________________\n",
      "max_pooling2d_2 (MaxPooling2 (None, 9, 9, 128)         0         \n",
      "_________________________________________________________________\n",
      "conv2d_3 (Conv2D)            (None, 6, 6, 256)         524544    \n",
      "_________________________________________________________________\n",
      "flatten (Flatten)            (None, 9216)              0         \n",
      "_________________________________________________________________\n",
      "dense (Dense)                (None, 4096)              37752832  \n",
      "=================================================================\n",
      "Total params: 38,960,448\n",
      "Trainable params: 38,960,448\n",
      "Non-trainable params: 0\n",
      "_________________________________________________________________\n"
     ]
    }
   ],
   "source": [
    "mod.summary()"
   ]
  },
  {
   "cell_type": "code",
   "execution_count": 47,
   "metadata": {},
   "outputs": [],
   "source": [
    "def make_embedding(): \n",
    "    inp = Input(shape=(100,100,3), name='input_image')\n",
    "    \n",
    "    # First block\n",
    "    c1 = Conv2D(64, (10,10), activation='relu')(inp)\n",
    "    m1 = MaxPooling2D(64, (2,2), padding='same')(c1)\n",
    "    \n",
    "    # Second block\n",
    "    c2 = Conv2D(128, (7,7), activation='relu')(m1)\n",
    "    m2 = MaxPooling2D(64, (2,2), padding='same')(c2)\n",
    "    \n",
    "    # Third block \n",
    "    c3 = Conv2D(128, (4,4), activation='relu')(m2)\n",
    "    m3 = MaxPooling2D(64, (2,2), padding='same')(c3)\n",
    "    \n",
    "    # Final embedding block\n",
    "    c4 = Conv2D(256, (4,4), activation='relu')(m3)\n",
    "    f1 = Flatten()(c4)\n",
    "    d1 = Dense(4096, activation='sigmoid')(f1)\n",
    "    \n",
    "    \n",
    "    return Model(inputs=[inp], outputs=[d1], name='embedding')"
   ]
  },
  {
   "cell_type": "code",
   "execution_count": 48,
   "metadata": {},
   "outputs": [],
   "source": [
    "embedding = make_embedding()"
   ]
  },
  {
   "cell_type": "code",
   "execution_count": 49,
   "metadata": {},
   "outputs": [
    {
     "name": "stdout",
     "output_type": "stream",
     "text": [
      "Model: \"embedding\"\n",
      "_________________________________________________________________\n",
      "Layer (type)                 Output Shape              Param #   \n",
      "=================================================================\n",
      "input_image (InputLayer)     [(None, 100, 100, 3)]     0         \n",
      "_________________________________________________________________\n",
      "conv2d_4 (Conv2D)            (None, 91, 91, 64)        19264     \n",
      "_________________________________________________________________\n",
      "max_pooling2d_3 (MaxPooling2 (None, 46, 46, 64)        0         \n",
      "_________________________________________________________________\n",
      "conv2d_5 (Conv2D)            (None, 40, 40, 128)       401536    \n",
      "_________________________________________________________________\n",
      "max_pooling2d_4 (MaxPooling2 (None, 20, 20, 128)       0         \n",
      "_________________________________________________________________\n",
      "conv2d_6 (Conv2D)            (None, 17, 17, 128)       262272    \n",
      "_________________________________________________________________\n",
      "max_pooling2d_5 (MaxPooling2 (None, 9, 9, 128)         0         \n",
      "_________________________________________________________________\n",
      "conv2d_7 (Conv2D)            (None, 6, 6, 256)         524544    \n",
      "_________________________________________________________________\n",
      "flatten_1 (Flatten)          (None, 9216)              0         \n",
      "_________________________________________________________________\n",
      "dense_1 (Dense)              (None, 4096)              37752832  \n",
      "=================================================================\n",
      "Total params: 38,960,448\n",
      "Trainable params: 38,960,448\n",
      "Non-trainable params: 0\n",
      "_________________________________________________________________\n"
     ]
    }
   ],
   "source": [
    "embedding.summary()"
   ]
  },
  {
   "cell_type": "markdown",
   "metadata": {},
   "source": [
    "## 4.2 Build Distance Layer"
   ]
  },
  {
   "cell_type": "code",
   "execution_count": 50,
   "metadata": {},
   "outputs": [],
   "source": [
    "# Siamese L1 Distance class\n",
    "class L1Dist(Layer):\n",
    "    \n",
    "    # Init method - inheritance\n",
    "    def __init__(self, **kwargs):\n",
    "        super().__init__()\n",
    "       \n",
    "    # Magic happens here - similarity calculation\n",
    "    def call(self, input_embedding, validation_embedding):\n",
    "        return tf.math.abs(input_embedding - validation_embedding)"
   ]
  },
  {
   "cell_type": "code",
   "execution_count": 51,
   "metadata": {},
   "outputs": [],
   "source": [
    "l1 = L1Dist()"
   ]
  },
  {
   "cell_type": "code",
   "execution_count": null,
   "metadata": {
    "tags": []
   },
   "outputs": [],
   "source": [
    "#l1(anchor_embedding, validation_embedding)"
   ]
  },
  {
   "cell_type": "markdown",
   "metadata": {},
   "source": [
    "## 4.3 Make Siamese Model"
   ]
  },
  {
   "cell_type": "code",
   "execution_count": 52,
   "metadata": {},
   "outputs": [],
   "source": [
    "input_image = Input(name='input_img', shape=(100,100,3))\n",
    "validation_image = Input(name='validation_img', shape=(100,100,3))"
   ]
  },
  {
   "cell_type": "code",
   "execution_count": 53,
   "metadata": {},
   "outputs": [],
   "source": [
    "inp_embedding = embedding(input_image)\n",
    "val_embedding = embedding(validation_image)"
   ]
  },
  {
   "cell_type": "code",
   "execution_count": 54,
   "metadata": {},
   "outputs": [],
   "source": [
    "siamese_layer = L1Dist()"
   ]
  },
  {
   "cell_type": "code",
   "execution_count": 55,
   "metadata": {},
   "outputs": [],
   "source": [
    "distances = siamese_layer(inp_embedding, val_embedding)"
   ]
  },
  {
   "cell_type": "code",
   "execution_count": 56,
   "metadata": {},
   "outputs": [],
   "source": [
    "classifier = Dense(1, activation='sigmoid')(distances)"
   ]
  },
  {
   "cell_type": "code",
   "execution_count": 57,
   "metadata": {},
   "outputs": [
    {
     "data": {
      "text/plain": [
       "<KerasTensor: shape=(None, 1) dtype=float32 (created by layer 'dense_2')>"
      ]
     },
     "execution_count": 57,
     "metadata": {},
     "output_type": "execute_result"
    }
   ],
   "source": [
    "classifier"
   ]
  },
  {
   "cell_type": "code",
   "execution_count": 58,
   "metadata": {},
   "outputs": [],
   "source": [
    "siamese_network = Model(inputs=[input_image, validation_image], outputs=classifier, name='SiameseNetwork')"
   ]
  },
  {
   "cell_type": "code",
   "execution_count": 59,
   "metadata": {},
   "outputs": [
    {
     "name": "stdout",
     "output_type": "stream",
     "text": [
      "Model: \"SiameseNetwork\"\n",
      "__________________________________________________________________________________________________\n",
      "Layer (type)                    Output Shape         Param #     Connected to                     \n",
      "==================================================================================================\n",
      "input_img (InputLayer)          [(None, 100, 100, 3) 0                                            \n",
      "__________________________________________________________________________________________________\n",
      "validation_img (InputLayer)     [(None, 100, 100, 3) 0                                            \n",
      "__________________________________________________________________________________________________\n",
      "embedding (Functional)          (None, 4096)         38960448    input_img[0][0]                  \n",
      "                                                                 validation_img[0][0]             \n",
      "__________________________________________________________________________________________________\n",
      "l1_dist_1 (L1Dist)              (None, 4096)         0           embedding[0][0]                  \n",
      "                                                                 embedding[1][0]                  \n",
      "__________________________________________________________________________________________________\n",
      "dense_2 (Dense)                 (None, 1)            4097        l1_dist_1[0][0]                  \n",
      "==================================================================================================\n",
      "Total params: 38,964,545\n",
      "Trainable params: 38,964,545\n",
      "Non-trainable params: 0\n",
      "__________________________________________________________________________________________________\n"
     ]
    }
   ],
   "source": [
    "siamese_network.summary()"
   ]
  },
  {
   "cell_type": "code",
   "execution_count": 61,
   "metadata": {},
   "outputs": [],
   "source": [
    "def make_siamese_model(): \n",
    "    \n",
    "    # Anchor image input in the network\n",
    "    input_image = Input(name='input_img', shape=(100,100,3))\n",
    "    \n",
    "    # Validation image in the network \n",
    "    validation_image = Input(name='validation_img', shape=(100,100,3))\n",
    "    \n",
    "    # Combine siamese distance components\n",
    "    siamese_layer = L1Dist()\n",
    "    siamese_layer._name = 'distance'\n",
    "    distances = siamese_layer(embedding(input_image), embedding(validation_image))\n",
    "    \n",
    "    # Classification layer \n",
    "    classifier = Dense(1, activation='sigmoid')(distances)\n",
    "    \n",
    "    return Model(inputs=[input_image, validation_image], outputs=classifier, name='SiameseNetwork')"
   ]
  },
  {
   "cell_type": "code",
   "execution_count": 62,
   "metadata": {},
   "outputs": [],
   "source": [
    "siamese_model = make_siamese_model()"
   ]
  },
  {
   "cell_type": "code",
   "execution_count": 63,
   "metadata": {
    "tags": []
   },
   "outputs": [
    {
     "name": "stdout",
     "output_type": "stream",
     "text": [
      "Model: \"SiameseNetwork\"\n",
      "__________________________________________________________________________________________________\n",
      "Layer (type)                    Output Shape         Param #     Connected to                     \n",
      "==================================================================================================\n",
      "input_img (InputLayer)          [(None, 100, 100, 3) 0                                            \n",
      "__________________________________________________________________________________________________\n",
      "validation_img (InputLayer)     [(None, 100, 100, 3) 0                                            \n",
      "__________________________________________________________________________________________________\n",
      "embedding (Functional)          (None, 4096)         38960448    input_img[0][0]                  \n",
      "                                                                 validation_img[0][0]             \n",
      "__________________________________________________________________________________________________\n",
      "distance (L1Dist)               (None, 4096)         0           embedding[2][0]                  \n",
      "                                                                 embedding[3][0]                  \n",
      "__________________________________________________________________________________________________\n",
      "dense_3 (Dense)                 (None, 1)            4097        distance[0][0]                   \n",
      "==================================================================================================\n",
      "Total params: 38,964,545\n",
      "Trainable params: 38,964,545\n",
      "Non-trainable params: 0\n",
      "__________________________________________________________________________________________________\n"
     ]
    }
   ],
   "source": [
    "siamese_model.summary()"
   ]
  },
  {
   "cell_type": "markdown",
   "metadata": {},
   "source": [
    "# 5. Training"
   ]
  },
  {
   "cell_type": "markdown",
   "metadata": {},
   "source": [
    "Agora iniciará o treinamento da rede para reconhecer imagens de entrada da webcam, em tempo real, para comparar com o modelo treinado da rede siamesa e identificar se a imagem de entrada corresponde à pessoa, a qual foi treinada para reconhecer, ou não."
   ]
  },
  {
   "cell_type": "markdown",
   "metadata": {},
   "source": [
    "## 5.1 Setup Loss and Optimizer"
   ]
  },
  {
   "cell_type": "code",
   "execution_count": 56,
   "metadata": {},
   "outputs": [],
   "source": [
    "binary_cross_loss = tf.losses.BinaryCrossentropy()"
   ]
  },
  {
   "cell_type": "code",
   "execution_count": 57,
   "metadata": {},
   "outputs": [],
   "source": [
    "opt = tf.keras.optimizers.Adam(1e-4) # 0.0001"
   ]
  },
  {
   "cell_type": "markdown",
   "metadata": {},
   "source": [
    "## 5.2 Establish Checkpoints"
   ]
  },
  {
   "cell_type": "code",
   "execution_count": 58,
   "metadata": {},
   "outputs": [],
   "source": [
    "checkpoint_dir = './training_checkpoints'\n",
    "checkpoint_prefix = os.path.join(checkpoint_dir, 'ckpt')\n",
    "checkpoint = tf.train.Checkpoint(opt=opt, siamese_model=siamese_model)"
   ]
  },
  {
   "cell_type": "markdown",
   "metadata": {},
   "source": [
    "## 5.3 Build Train Step Function"
   ]
  },
  {
   "cell_type": "code",
   "execution_count": 59,
   "metadata": {},
   "outputs": [],
   "source": [
    "test_batch = train_data.as_numpy_iterator()"
   ]
  },
  {
   "cell_type": "code",
   "execution_count": 60,
   "metadata": {},
   "outputs": [],
   "source": [
    "batch_1 = test_batch.next()"
   ]
  },
  {
   "cell_type": "code",
   "execution_count": 61,
   "metadata": {},
   "outputs": [],
   "source": [
    "X = batch_1[:2]"
   ]
  },
  {
   "cell_type": "code",
   "execution_count": 62,
   "metadata": {},
   "outputs": [],
   "source": [
    "y = batch_1[2]"
   ]
  },
  {
   "cell_type": "code",
   "execution_count": 63,
   "metadata": {},
   "outputs": [
    {
     "data": {
      "text/plain": [
       "array([1., 1., 1., 0., 0., 1., 1., 0., 0., 0., 0., 0., 1., 1., 1., 0.],\n",
       "      dtype=float32)"
      ]
     },
     "execution_count": 63,
     "metadata": {},
     "output_type": "execute_result"
    }
   ],
   "source": [
    "y"
   ]
  },
  {
   "cell_type": "code",
   "execution_count": 64,
   "metadata": {
    "jupyter": {
     "outputs_hidden": true
    },
    "tags": []
   },
   "outputs": [],
   "source": [
    "tf.losses.BinaryCrossentropy??"
   ]
  },
  {
   "cell_type": "code",
   "execution_count": 65,
   "metadata": {
    "tags": []
   },
   "outputs": [],
   "source": [
    "@tf.function\n",
    "def train_step(batch):\n",
    "    \n",
    "    # Record all of our operations \n",
    "    with tf.GradientTape() as tape:     \n",
    "        # Get anchor and positive/negative image\n",
    "        X = batch[:2]\n",
    "        # Get label\n",
    "        y = batch[2]\n",
    "        \n",
    "        # Forward pass\n",
    "        yhat = siamese_model(X, training=True)\n",
    "        # Calculate loss\n",
    "        loss = binary_cross_loss(y, yhat)\n",
    "    print(loss)\n",
    "        \n",
    "    # Calculate gradients\n",
    "    grad = tape.gradient(loss, siamese_model.trainable_variables)\n",
    "    \n",
    "    # Calculate updated weights and apply to siamese model\n",
    "    opt.apply_gradients(zip(grad, siamese_model.trainable_variables))\n",
    "        \n",
    "    # Return loss\n",
    "    return loss"
   ]
  },
  {
   "cell_type": "markdown",
   "metadata": {},
   "source": [
    "## 5.4 Build Training Loop"
   ]
  },
  {
   "cell_type": "code",
   "execution_count": 66,
   "metadata": {},
   "outputs": [],
   "source": [
    "# Import metric calculations\n",
    "from tensorflow.keras.metrics import Precision, Recall"
   ]
  },
  {
   "cell_type": "code",
   "execution_count": 67,
   "metadata": {},
   "outputs": [],
   "source": [
    "def train(data, EPOCHS):\n",
    "    # Loop through epochs\n",
    "    for epoch in range(1, EPOCHS+1):\n",
    "        print('\\n Epoch {}/{}'.format(epoch, EPOCHS))\n",
    "        progbar = tf.keras.utils.Progbar(len(data))\n",
    "        \n",
    "        # Creating a metric object \n",
    "        r = Recall()\n",
    "        p = Precision()\n",
    "        \n",
    "        # Loop through each batch\n",
    "        for idx, batch in enumerate(data):\n",
    "            # Run train step here\n",
    "            loss = train_step(batch)\n",
    "            yhat = siamese_model.predict(batch[:2])\n",
    "            r.update_state(batch[2], yhat)\n",
    "            p.update_state(batch[2], yhat) \n",
    "            progbar.update(idx+1)\n",
    "        print(loss.numpy(), r.result().numpy(), p.result().numpy())\n",
    "        \n",
    "        # Save checkpoints\n",
    "        if epoch % 10 == 0: \n",
    "            checkpoint.save(file_prefix=checkpoint_prefix)"
   ]
  },
  {
   "cell_type": "markdown",
   "metadata": {},
   "source": [
    "## 5.5 Train the model"
   ]
  },
  {
   "cell_type": "code",
   "execution_count": 68,
   "metadata": {},
   "outputs": [],
   "source": [
    "EPOCHS = 50"
   ]
  },
  {
   "cell_type": "code",
   "execution_count": 72,
   "metadata": {
    "scrolled": false,
    "tags": []
   },
   "outputs": [
    {
     "name": "stdout",
     "output_type": "stream",
     "text": [
      "\n",
      " Epoch 1/50\n",
      "10/10 [==============================] - 260s 26s/step\n",
      "0.03713088 1.0 1.0\n",
      "\n",
      " Epoch 2/50\n",
      "10/10 [==============================] - 254s 25s/step\n",
      "0.01877898 1.0 1.0\n",
      "\n",
      " Epoch 3/50\n",
      "10/10 [==============================] - 258s 26s/step\n",
      "0.0062145535 1.0 1.0\n",
      "\n",
      " Epoch 4/50\n",
      "10/10 [==============================] - 258s 26s/step\n",
      "0.031566422 1.0 1.0\n",
      "\n",
      " Epoch 5/50\n",
      "10/10 [==============================] - 247s 25s/step\n",
      "0.05424415 1.0 1.0\n",
      "\n",
      " Epoch 6/50\n",
      "10/10 [==============================] - 248s 25s/step\n",
      "0.11452762 1.0 1.0\n",
      "\n",
      " Epoch 7/50\n",
      "10/10 [==============================] - 261s 26s/step\n",
      "0.0017099433 1.0 1.0\n",
      "\n",
      " Epoch 8/50\n",
      "10/10 [==============================] - 249s 25s/step\n",
      "0.03938085 1.0 1.0\n",
      "\n",
      " Epoch 9/50\n",
      "10/10 [==============================] - 259s 26s/step\n",
      "0.004094234 1.0 1.0\n",
      "\n",
      " Epoch 10/50\n",
      "10/10 [==============================] - 257s 26s/step\n",
      "0.036431696 1.0 1.0\n",
      "\n",
      " Epoch 11/50\n",
      "10/10 [==============================] - 277s 28s/step\n",
      "0.0035346209 1.0 1.0\n",
      "\n",
      " Epoch 12/50\n",
      "10/10 [==============================] - 262s 26s/step\n",
      "0.0041152323 1.0 1.0\n",
      "\n",
      " Epoch 13/50\n",
      "10/10 [==============================] - 275s 27s/step\n",
      "0.008313049 1.0 1.0\n",
      "\n",
      " Epoch 14/50\n",
      "10/10 [==============================] - 265s 26s/step\n",
      "0.0015314865 1.0 1.0\n",
      "\n",
      " Epoch 15/50\n",
      "10/10 [==============================] - 265s 26s/step\n",
      "0.037907597 1.0 1.0\n",
      "\n",
      " Epoch 16/50\n",
      "10/10 [==============================] - 268s 27s/step\n",
      "0.0010407452 1.0 1.0\n",
      "\n",
      " Epoch 17/50\n",
      "10/10 [==============================] - 270s 27s/step\n",
      "0.0011073054 1.0 1.0\n",
      "\n",
      " Epoch 18/50\n",
      "10/10 [==============================] - 273s 27s/step\n",
      "0.00088527583 1.0 1.0\n",
      "\n",
      " Epoch 19/50\n",
      "10/10 [==============================] - 255s 25s/step\n",
      "0.0032564355 1.0 1.0\n",
      "\n",
      " Epoch 20/50\n",
      "10/10 [==============================] - 276s 28s/step\n",
      "3.149284e-05 1.0 1.0\n",
      "\n",
      " Epoch 21/50\n",
      "10/10 [==============================] - 251s 25s/step\n",
      "1.7663573e-05 1.0 1.0\n",
      "\n",
      " Epoch 22/50\n",
      "10/10 [==============================] - 249s 25s/step\n",
      "0.00036691452 1.0 1.0\n",
      "\n",
      " Epoch 23/50\n",
      "10/10 [==============================] - 249s 25s/step\n",
      "2.261822e-05 1.0 1.0\n",
      "\n",
      " Epoch 24/50\n",
      "10/10 [==============================] - 261s 26s/step\n",
      "5.2237283e-05 1.0 1.0\n",
      "\n",
      " Epoch 25/50\n",
      "10/10 [==============================] - 261s 25s/step\n",
      "0.00019773588 1.0 1.0\n",
      "\n",
      " Epoch 26/50\n",
      "10/10 [==============================] - 247s 25s/step\n",
      "0.00014589225 1.0 1.0\n",
      "\n",
      " Epoch 27/50\n",
      "10/10 [==============================] - 253s 25s/step\n",
      "7.0136925e-06 1.0 1.0\n",
      "\n",
      " Epoch 28/50\n",
      "10/10 [==============================] - 251s 25s/step\n",
      "0.00035285717 1.0 1.0\n",
      "\n",
      " Epoch 29/50\n",
      "10/10 [==============================] - 247s 25s/step\n",
      "0.00028530037 1.0 1.0\n",
      "\n",
      " Epoch 30/50\n",
      "10/10 [==============================] - 245s 24s/step\n",
      "1.22458505e-05 1.0 1.0\n",
      "\n",
      " Epoch 31/50\n",
      "10/10 [==============================] - 245s 24s/step\n",
      "1.6524857e-05 1.0 1.0\n",
      "\n",
      " Epoch 32/50\n",
      "10/10 [==============================] - 245s 24s/step\n",
      "3.3842432e-06 1.0 1.0\n",
      "\n",
      " Epoch 33/50\n",
      "10/10 [==============================] - 244s 24s/step\n",
      "1.1828666e-05 1.0 1.0\n",
      "\n",
      " Epoch 34/50\n",
      "10/10 [==============================] - 243s 24s/step\n",
      "0.00038052633 1.0 1.0\n",
      "\n",
      " Epoch 35/50\n",
      "10/10 [==============================] - 245s 24s/step\n",
      "0.00014921122 1.0 1.0\n",
      "\n",
      " Epoch 36/50\n",
      "10/10 [==============================] - 246s 24s/step\n",
      "3.8411918e-07 1.0 1.0\n",
      "\n",
      " Epoch 37/50\n",
      "10/10 [==============================] - 245s 24s/step\n",
      "0.0004394047 1.0 1.0\n",
      "\n",
      " Epoch 38/50\n",
      "10/10 [==============================] - 246s 25s/step\n",
      "0.000114372684 1.0 1.0\n",
      "\n",
      " Epoch 39/50\n",
      "10/10 [==============================] - 263s 26s/step\n",
      "2.5354595e-05 1.0 1.0\n",
      "\n",
      " Epoch 40/50\n",
      "10/10 [==============================] - 268s 27s/step\n",
      "5.9663336e-05 1.0 1.0\n",
      "\n",
      " Epoch 41/50\n",
      "10/10 [==============================] - 264s 26s/step\n",
      "2.7020926e-06 1.0 1.0\n",
      "\n",
      " Epoch 42/50\n",
      "10/10 [==============================] - 278s 28s/step\n",
      "0.00020127525 1.0 1.0\n",
      "\n",
      " Epoch 43/50\n",
      "10/10 [==============================] - 264s 26s/step\n",
      "1.3829049e-05 1.0 1.0\n",
      "\n",
      " Epoch 44/50\n",
      "10/10 [==============================] - 290s 29s/step\n",
      "3.3765908e-05 1.0 1.0\n",
      "\n",
      " Epoch 45/50\n",
      "10/10 [==============================] - 291s 29s/step\n",
      "3.43724e-06 1.0 1.0\n",
      "\n",
      " Epoch 46/50\n",
      "10/10 [==============================] - 274s 27s/step\n",
      "2.986881e-06 1.0 1.0\n",
      "\n",
      " Epoch 47/50\n",
      "10/10 [==============================] - 300s 30s/step\n",
      "7.0235015e-05 1.0 1.0\n",
      "\n",
      " Epoch 48/50\n",
      "10/10 [==============================] - 285s 28s/step\n",
      "1.8942646e-05 1.0 1.0\n",
      "\n",
      " Epoch 49/50\n",
      "10/10 [==============================] - 296s 29s/step\n",
      "3.2849252e-06 1.0 1.0\n",
      "\n",
      " Epoch 50/50\n",
      "10/10 [==============================] - 288s 29s/step\n",
      "3.6624156e-06 1.0 1.0\n"
     ]
    }
   ],
   "source": [
    "train(train_data, EPOCHS)"
   ]
  },
  {
   "cell_type": "markdown",
   "metadata": {},
   "source": [
    "Foi utilizado o treinamento em 50 EPOCHS, o qual foi realizado em cerca de 3h em uma máquina do tipo notebook, marca HP, processaor intel i7. Ao final do treinamento, o modelo será salvo em um arquivo para que o app utilize-o como base para fazer o reconhecimento. "
   ]
  },
  {
   "cell_type": "markdown",
   "metadata": {
    "tags": []
   },
   "source": [
    "# 6. Evaluate Model"
   ]
  },
  {
   "cell_type": "markdown",
   "metadata": {},
   "source": [
    "Iniciando a avaliação do modelo, aplicando métricas de desempenho para coletar informações sobre a sua eficácia."
   ]
  },
  {
   "cell_type": "markdown",
   "metadata": {},
   "source": [
    "## 6.1 Import Metrics"
   ]
  },
  {
   "cell_type": "code",
   "execution_count": 64,
   "metadata": {},
   "outputs": [],
   "source": [
    "# Import metric calculations\n",
    "from tensorflow.keras.metrics import Precision, Recall"
   ]
  },
  {
   "cell_type": "markdown",
   "metadata": {},
   "source": [
    "Métricas *Precision* e *Recall* que serão calculadas para avaliar o modelo."
   ]
  },
  {
   "cell_type": "markdown",
   "metadata": {},
   "source": [
    "## 6.2 Make Predictions"
   ]
  },
  {
   "cell_type": "code",
   "execution_count": 65,
   "metadata": {},
   "outputs": [],
   "source": [
    "# Get a batch of test data\n",
    "test_input, test_val, y_true = test_data.as_numpy_iterator().next()"
   ]
  },
  {
   "cell_type": "code",
   "execution_count": 66,
   "metadata": {
    "tags": []
   },
   "outputs": [],
   "source": [
    "y_hat = siamese_model.predict([test_input, test_val])"
   ]
  },
  {
   "cell_type": "code",
   "execution_count": 67,
   "metadata": {
    "tags": []
   },
   "outputs": [
    {
     "data": {
      "text/plain": [
       "[0, 0, 0, 0, 0, 0, 0, 0, 0, 0, 0, 0, 0, 0, 0, 0]"
      ]
     },
     "execution_count": 67,
     "metadata": {},
     "output_type": "execute_result"
    }
   ],
   "source": [
    "# Post processing the results \n",
    "[1 if prediction > 0.5 else 0 for prediction in y_hat ]"
   ]
  },
  {
   "cell_type": "code",
   "execution_count": 68,
   "metadata": {
    "tags": []
   },
   "outputs": [
    {
     "data": {
      "text/plain": [
       "array([1., 1., 1., 0., 0., 0., 0., 1., 1., 0., 1., 0., 1., 1., 0., 0.],\n",
       "      dtype=float32)"
      ]
     },
     "execution_count": 68,
     "metadata": {},
     "output_type": "execute_result"
    }
   ],
   "source": [
    "y_true"
   ]
  },
  {
   "cell_type": "markdown",
   "metadata": {},
   "source": [
    "## 6.3 Calculate Metrics"
   ]
  },
  {
   "cell_type": "code",
   "execution_count": 69,
   "metadata": {},
   "outputs": [
    {
     "data": {
      "text/plain": [
       "0.0"
      ]
     },
     "execution_count": 69,
     "metadata": {},
     "output_type": "execute_result"
    }
   ],
   "source": [
    "# Creating a metric object \n",
    "m = Recall()\n",
    "\n",
    "# Calculating the recall value \n",
    "m.update_state(y_true, y_hat)\n",
    "\n",
    "# Return Recall Result\n",
    "m.result().numpy()"
   ]
  },
  {
   "cell_type": "code",
   "execution_count": 70,
   "metadata": {},
   "outputs": [
    {
     "data": {
      "text/plain": [
       "0.0"
      ]
     },
     "execution_count": 70,
     "metadata": {},
     "output_type": "execute_result"
    }
   ],
   "source": [
    "# Creating a metric object \n",
    "m = Precision()\n",
    "\n",
    "# Calculating the recall value \n",
    "m.update_state(y_true, y_hat)\n",
    "\n",
    "# Return Recall Result\n",
    "m.result().numpy()"
   ]
  },
  {
   "cell_type": "code",
   "execution_count": 71,
   "metadata": {},
   "outputs": [
    {
     "name": "stdout",
     "output_type": "stream",
     "text": [
      "0.11111111 0.8\n"
     ]
    }
   ],
   "source": [
    "r = Recall()\n",
    "p = Precision()\n",
    "\n",
    "for test_input, test_val, y_true in test_data.as_numpy_iterator():\n",
    "    yhat = siamese_model.predict([test_input, test_val])\n",
    "    r.update_state(y_true, yhat)\n",
    "    p.update_state(y_true,yhat) \n",
    "\n",
    "print(r.result().numpy(), p.result().numpy())"
   ]
  },
  {
   "cell_type": "markdown",
   "metadata": {},
   "source": [
    "## 6.4 Viz Results"
   ]
  },
  {
   "cell_type": "code",
   "execution_count": 72,
   "metadata": {},
   "outputs": [
    {
     "data": {
      "image/png": "[encoded data removed]",
      "text/plain": [
       "<Figure size 1000x800 with 2 Axes>"
      ]
     },
     "metadata": {},
     "output_type": "display_data"
    }
   ],
   "source": [
    "# Set plot size \n",
    "plt.figure(figsize=(10,8))\n",
    "\n",
    "# Set first subplot\n",
    "plt.subplot(1,2,1)\n",
    "plt.imshow(test_input[0])\n",
    "\n",
    "# Set second subplot\n",
    "plt.subplot(1,2,2)\n",
    "plt.imshow(test_val[0])\n",
    "\n",
    "# Renders cleanly\n",
    "plt.show()"
   ]
  },
  {
   "cell_type": "markdown",
   "metadata": {},
   "source": [
    "# 7. Save Model"
   ]
  },
  {
   "cell_type": "markdown",
   "metadata": {},
   "source": [
    "Sallvando o modelo em um arquivo chamado 'siamesemodelv2.h5' para ser usado como base para fazer o reconhecimento facial do app."
   ]
  },
  {
   "cell_type": "code",
   "execution_count": 83,
   "metadata": {},
   "outputs": [
    {
     "name": "stdout",
     "output_type": "stream",
     "text": [
      "WARNING:tensorflow:Compiled the loaded model, but the compiled metrics have yet to be built. `model.compile_metrics` will be empty until you train or evaluate the model.\n"
     ]
    }
   ],
   "source": [
    "# Save weights\n",
    "siamese_model.save('siamesemodelv2.h5') #modelo treinado"
   ]
  },
  {
   "cell_type": "code",
   "execution_count": 73,
   "metadata": {},
   "outputs": [
    {
     "data": {
      "text/plain": [
       "__main__.L1Dist"
      ]
     },
     "execution_count": 73,
     "metadata": {},
     "output_type": "execute_result"
    }
   ],
   "source": [
    "L1Dist"
   ]
  },
  {
   "cell_type": "code",
   "execution_count": 74,
   "metadata": {},
   "outputs": [
    {
     "name": "stdout",
     "output_type": "stream",
     "text": [
      "WARNING:tensorflow:No training configuration found in the save file, so the model was *not* compiled. Compile it manually.\n"
     ]
    }
   ],
   "source": [
    "# Reload model \n",
    "siamese_model = tf.keras.models.load_model('siamesemodelv2.h5', \n",
    "                                   custom_objects={'L1Dist':L1Dist, 'BinaryCrossentropy':tf.losses.BinaryCrossentropy})"
   ]
  },
  {
   "cell_type": "code",
   "execution_count": 75,
   "metadata": {},
   "outputs": [
    {
     "data": {
      "text/plain": [
       "array([[1.7881155e-06],\n",
       "       [6.8588690e-08],\n",
       "       [1.6981103e-08],\n",
       "       [1.0000000e+00],\n",
       "       [9.4876122e-01],\n",
       "       [2.5126820e-07],\n",
       "       [1.2818559e-06]], dtype=float32)"
      ]
     },
     "execution_count": 75,
     "metadata": {},
     "output_type": "execute_result"
    }
   ],
   "source": [
    "# Make predictions with reloaded model\n",
    "siamese_model.predict([test_input, test_val])"
   ]
  },
  {
   "cell_type": "code",
   "execution_count": 76,
   "metadata": {},
   "outputs": [
    {
     "name": "stdout",
     "output_type": "stream",
     "text": [
      "Model: \"SiameseNetwork\"\n",
      "__________________________________________________________________________________________________\n",
      "Layer (type)                    Output Shape         Param #     Connected to                     \n",
      "==================================================================================================\n",
      "input_img (InputLayer)          [(None, 100, 100, 3) 0                                            \n",
      "__________________________________________________________________________________________________\n",
      "validation_img (InputLayer)     [(None, 100, 100, 3) 0                                            \n",
      "__________________________________________________________________________________________________\n",
      "embedding (Functional)          (None, 4096)         38960448    input_img[0][0]                  \n",
      "                                                                 validation_img[0][0]             \n",
      "__________________________________________________________________________________________________\n",
      "l1_dist_3 (L1Dist)              (None, 4096)         0           embedding[0][0]                  \n",
      "                                                                 embedding[1][0]                  \n",
      "__________________________________________________________________________________________________\n",
      "dense_3 (Dense)                 (None, 1)            4097        l1_dist_3[0][0]                  \n",
      "==================================================================================================\n",
      "Total params: 38,964,545\n",
      "Trainable params: 38,964,545\n",
      "Non-trainable params: 0\n",
      "__________________________________________________________________________________________________\n"
     ]
    }
   ],
   "source": [
    "# View model summary\n",
    "siamese_model.summary()"
   ]
  },
  {
   "cell_type": "markdown",
   "metadata": {},
   "source": [
    "# 8. Real Time Test"
   ]
  },
  {
   "cell_type": "markdown",
   "metadata": {},
   "source": [
    "Será realizado o teste de reconhecimento facial do app, a partir do modelo treinado, de uma imagem de entrada da webcam, produzindo como saída: (i) TRUE, para resultado positivo/verdadeiro sobre o reconhecimento (significa que a imagem capturada em tempo real corresponde à imagem que foi usada para o treino, ou seja, a rede reconheceu a pessoa que capturou sua imagem na webcam como sendo a mesma pessoa que a rede aprendeu); ou FALSE, para resultado negativo/falso sobre o reconhecimento (significa que a imagem capturada em tempo real NÃO corresponde à imagem que foi usada para o treino, ou seja, a rede reconheceu a pessoa que capturou sua imagem na webcam como sendo OUTRA pessoa DIFERENTE do que a rede aprendeu)."
   ]
  },
  {
   "cell_type": "markdown",
   "metadata": {},
   "source": [
    "## 8.1 Verification Function"
   ]
  },
  {
   "cell_type": "code",
   "execution_count": 88,
   "metadata": {
    "collapsed": true
   },
   "outputs": [
    {
     "ename": "SyntaxError",
     "evalue": "unexpected character after line continuation character (2818603333.py, line 1)",
     "output_type": "error",
     "traceback": [
      "\u001b[1;36m  File \u001b[1;32m\"C:\\Users\\Felipe\\AppData\\Local\\Temp\\ipykernel_14864\\2818603333.py\"\u001b[1;36m, line \u001b[1;32m1\u001b[0m\n\u001b[1;33m    application_data\\verification_images\u001b[0m\n\u001b[1;37m                     ^\u001b[0m\n\u001b[1;31mSyntaxError\u001b[0m\u001b[1;31m:\u001b[0m unexpected character after line continuation character\n"
     ]
    }
   ],
   "source": [
    "#application_data\\verification_images"
   ]
  },
  {
   "cell_type": "code",
   "execution_count": 77,
   "metadata": {
    "scrolled": true
   },
   "outputs": [
    {
     "data": {
      "text/plain": [
       "['1825fc0d-7235-11ed-b725-082e5f739565.jpg',\n",
       " '1969ca5a-7235-11ed-bd5b-082e5f739565.jpg',\n",
       " '20a61a77-7235-11ed-a3e8-082e5f739565.jpg',\n",
       " '26e51cc2-7235-11ed-a1e7-082e5f739565.jpg',\n",
       " '28ce7e35-7235-11ed-99cf-082e5f739565.jpg',\n",
       " '29174f6a-7235-11ed-aeeb-082e5f739565.jpg',\n",
       " '295d5c20-7235-11ed-8b66-082e5f739565.jpg',\n",
       " '29e7ce2c-7235-11ed-b01e-082e5f739565.jpg',\n",
       " '30d42eec-7235-11ed-9b15-082e5f739565.jpg',\n",
       " '315d66c0-7235-11ed-a42c-082e5f739565.jpg',\n",
       " '3379a1ec-7235-11ed-8e9e-082e5f739565.jpg',\n",
       " '33d5c745-7235-11ed-a2e7-082e5f739565.jpg',\n",
       " '36e282aa-7235-11ed-8b12-082e5f739565.jpg',\n",
       " '371c791c-7235-11ed-92af-082e5f739565.jpg',\n",
       " '379ed95f-7235-11ed-9a03-082e5f739565.jpg',\n",
       " '37dfccb2-7235-11ed-aa84-082e5f739565.jpg',\n",
       " '39bd042e-7235-11ed-b25d-082e5f739565.jpg',\n",
       " '39f4aa64-7235-11ed-b8b0-082e5f739565.jpg',\n",
       " '3ca1a7d4-7235-11ed-a077-082e5f739565.jpg',\n",
       " '3d3fc727-7235-11ed-9df0-082e5f739565.jpg',\n",
       " '3db147a7-7235-11ed-acd4-082e5f739565.jpg',\n",
       " '3dd521a2-7235-11ed-9644-082e5f739565.jpg',\n",
       " '3e095ff3-7235-11ed-9229-082e5f739565.jpg',\n",
       " '402f30c4-7235-11ed-8050-082e5f739565.jpg',\n",
       " '419b6b31-7235-11ed-b0db-082e5f739565.jpg',\n",
       " '423e14e9-7235-11ed-a1b6-082e5f739565.jpg',\n",
       " '42693f18-7235-11ed-b6eb-082e5f739565.jpg',\n",
       " '42c5b85d-7235-11ed-b36c-082e5f739565.jpg',\n",
       " '42f01b70-7235-11ed-9930-082e5f739565.jpg',\n",
       " '43d60171-7235-11ed-b250-082e5f739565.jpg',\n",
       " '4429e053-7235-11ed-ac97-082e5f739565.jpg',\n",
       " '44eab75e-7235-11ed-84ee-082e5f739565.jpg',\n",
       " '45e02209-7235-11ed-9cc7-082e5f739565.jpg',\n",
       " '46594b2a-7235-11ed-86a1-082e5f739565.jpg',\n",
       " '467f748b-7235-11ed-8b92-082e5f739565.jpg',\n",
       " '46a93897-7235-11ed-9898-082e5f739565.jpg',\n",
       " '46d38020-7235-11ed-9613-082e5f739565.jpg',\n",
       " '47ec962a-7235-11ed-b0c3-082e5f739565.jpg',\n",
       " '484dac69-7235-11ed-a168-082e5f739565.jpg',\n",
       " '48a89d40-7235-11ed-8351-082e5f739565.jpg',\n",
       " '48d8a66c-7235-11ed-80bb-082e5f739565.jpg',\n",
       " '49cef2ba-7235-11ed-976c-082e5f739565.jpg',\n",
       " '4a2590a6-7235-11ed-8c49-082e5f739565.jpg',\n",
       " '4a740289-7235-11ed-8a10-082e5f739565.jpg',\n",
       " '4acfb19f-7235-11ed-b341-082e5f739565.jpg',\n",
       " '4c985266-7235-11ed-b327-082e5f739565.jpg',\n",
       " '4cc280ac-7235-11ed-86cd-082e5f739565.jpg',\n",
       " '4cecb0c1-7235-11ed-b4a3-082e5f739565.jpg',\n",
       " '4d0ef575-7235-11ed-902c-082e5f739565.jpg',\n",
       " '4d61272a-7235-11ed-b19a-082e5f739565.jpg',\n",
       " '4d8aa66b-7235-11ed-860e-082e5f739565.jpg',\n",
       " '4e0a8ad8-7235-11ed-9933-082e5f739565.jpg',\n",
       " '4e596573-7235-11ed-a015-082e5f739565.jpg',\n",
       " '4e7de73e-7235-11ed-ac15-082e5f739565.jpg',\n",
       " '4ea222b0-7235-11ed-a320-082e5f739565.jpg',\n",
       " '4ecb5a3a-7235-11ed-b68e-082e5f739565.jpg',\n",
       " '5047e6e0-7235-11ed-a9eb-082e5f739565.jpg',\n",
       " '5073b8dd-7235-11ed-bdd9-082e5f739565.jpg',\n",
       " '509ee537-7235-11ed-9c1b-082e5f739565.jpg',\n",
       " '50fb5cf7-7235-11ed-a14d-082e5f739565.jpg',\n",
       " '519aa83b-7235-11ed-b9a3-082e5f739565.jpg',\n",
       " '51e7b618-7235-11ed-b637-082e5f739565.jpg',\n",
       " '531e56b9-7235-11ed-a490-082e5f739565.jpg',\n",
       " '53ca0a5f-7235-11ed-ab69-082e5f739565.jpg',\n",
       " '549b6672-7235-11ed-8552-082e5f739565.jpg',\n",
       " '550cf407-7235-11ed-b192-082e5f739565.jpg',\n",
       " 'b830f544-7235-11ed-b98c-082e5f739565.jpg',\n",
       " 'b8316a61-7235-11ed-afca-082e5f739565.jpg',\n",
       " 'b831df8f-7235-11ed-b494-082e5f739565.jpg',\n",
       " 'b8322d93-7235-11ed-8da3-082e5f739565.jpg',\n",
       " 'b8327bad-7235-11ed-b5d9-082e5f739565.jpg',\n",
       " 'b832f0c4-7235-11ed-beca-082e5f739565.jpg',\n",
       " 'b8333ed7-7235-11ed-abc4-082e5f739565.jpg',\n",
       " 'b8338ceb-7235-11ed-985c-082e5f739565.jpg',\n",
       " 'b8340222-7235-11ed-ab0e-082e5f739565.jpg',\n",
       " 'b83f6fd0-7235-11ed-91b5-082e5f739565.jpg',\n",
       " 'b83fe523-7235-11ed-925a-082e5f739565.jpg',\n",
       " 'b840332b-7235-11ed-bc11-082e5f739565.jpg',\n",
       " 'b8408140-7235-11ed-8e29-082e5f739565.jpg',\n",
       " 'b840cf52-7235-11ed-94a2-082e5f739565.jpg',\n",
       " 'b8414470-7235-11ed-a46c-082e5f739565.jpg',\n",
       " 'b8419287-7235-11ed-8cd1-082e5f739565.jpg',\n",
       " 'b841e098-7235-11ed-82c2-082e5f739565.jpg',\n",
       " 'b84255b5-7235-11ed-939d-082e5f739565.jpg',\n",
       " 'b84d9a96-7235-11ed-97d4-082e5f739565.jpg',\n",
       " 'b84de8a9-7235-11ed-8b73-082e5f739565.jpg',\n",
       " 'b84e5dc6-7235-11ed-b872-082e5f739565.jpg',\n",
       " 'b84ed2e4-7235-11ed-a3e4-082e5f739565.jpg',\n",
       " 'b84f20f7-7235-11ed-bac2-082e5f739565.jpg',\n",
       " 'b84f839e-7235-11ed-b13f-082e5f739565.jpg',\n",
       " 'b84fe6a7-7235-11ed-808f-082e5f739565.jpg',\n",
       " 'b8505bc7-7235-11ed-907f-082e5f739565.jpg',\n",
       " 'b850a9db-7235-11ed-b399-082e5f739565.jpg',\n",
       " 'b85c856d-7235-11ed-b112-082e5f739565.jpg',\n",
       " 'b85cfa89-7235-11ed-935c-082e5f739565.jpg',\n",
       " 'b85d682c-7235-11ed-8889-082e5f739565.jpg',\n",
       " 'b85db643-7235-11ed-8ecc-082e5f739565.jpg',\n",
       " 'b85e0452-7235-11ed-9440-082e5f739565.jpg',\n",
       " 'b85e7975-7235-11ed-b6bf-082e5f739565.jpg',\n",
       " 'b85ec222-7235-11ed-b880-082e5f739565.jpg',\n",
       " 'b85f373e-7235-11ed-8a2e-082e5f739565.jpg',\n",
       " 'b85fac61-7235-11ed-9024-082e5f739565.jpg',\n",
       " 'b86af6a8-7235-11ed-897e-082e5f739565.jpg',\n",
       " 'b86b6bf1-7235-11ed-8ab4-082e5f739565.jpg',\n",
       " 'b86be711-7235-11ed-b431-082e5f739565.jpg',\n",
       " 'b86c3528-7235-11ed-b11f-082e5f739565.jpg',\n",
       " 'b86c8339-7235-11ed-a8d0-082e5f739565.jpg',\n",
       " 'b86cf856-7235-11ed-b50e-082e5f739565.jpg',\n",
       " 'b86d466b-7235-11ed-945e-082e5f739565.jpg',\n",
       " 'b86d947c-7235-11ed-93fd-082e5f739565.jpg',\n",
       " 'b86e099b-7235-11ed-a72d-082e5f739565.jpg',\n",
       " 'b878db1e-7235-11ed-a79f-082e5f739565.jpg',\n",
       " 'b8795041-7235-11ed-9150-082e5f739565.jpg',\n",
       " 'b879c55d-7235-11ed-99a9-082e5f739565.jpg',\n",
       " 'b87a1376-7235-11ed-9115-082e5f739565.jpg',\n",
       " 'b87a618c-7235-11ed-becb-082e5f739565.jpg',\n",
       " 'b87ad6a4-7235-11ed-a11e-082e5f739565.jpg',\n",
       " 'b87b24b8-7235-11ed-b759-082e5f739565.jpg',\n",
       " 'b87b72d1-7235-11ed-9b8d-082e5f739565.jpg',\n",
       " 'b87be7e9-7235-11ed-9560-082e5f739565.jpg',\n",
       " 'b88754a4-7235-11ed-aba7-082e5f739565.jpg',\n",
       " 'b887c9c2-7235-11ed-a8e6-082e5f739565.jpg',\n",
       " 'b8883ede-7235-11ed-8c8d-082e5f739565.jpg',\n",
       " 'b8888cf3-7235-11ed-b54a-082e5f739565.jpg',\n",
       " 'b889020f-7235-11ed-bb13-082e5f739565.jpg',\n",
       " 'b889773a-7235-11ed-96a1-082e5f739565.jpg',\n",
       " 'b889c54f-7235-11ed-bbd1-082e5f739565.jpg',\n",
       " 'b88a3a6f-7235-11ed-871a-082e5f739565.jpg',\n",
       " 'b88a8882-7235-11ed-b700-082e5f739565.jpg',\n",
       " 'b895eaff-7235-11ed-933a-082e5f739565.jpg',\n",
       " 'b896602b-7235-11ed-8d71-082e5f739565.jpg',\n",
       " 'b896ae3d-7235-11ed-b9e9-082e5f739565.jpg',\n",
       " 'b8972358-7235-11ed-a720-082e5f739565.jpg',\n",
       " 'b897716b-7235-11ed-bd19-082e5f739565.jpg',\n",
       " 'b897e6b2-7235-11ed-8df5-082e5f739565.jpg',\n",
       " 'b898349e-7235-11ed-bf1c-082e5f739565.jpg',\n",
       " 'b89882b4-7235-11ed-a775-082e5f739565.jpg',\n",
       " 'b898f7d2-7235-11ed-a541-082e5f739565.jpg',\n",
       " 'b90c2e85-7235-11ed-9d08-082e5f739565.jpg',\n",
       " 'b90c7c91-7235-11ed-aa88-082e5f739565.jpg',\n",
       " 'b90cf1b0-7235-11ed-944a-082e5f739565.jpg',\n",
       " 'b90d66d4-7235-11ed-b45f-082e5f739565.jpg',\n",
       " 'b90e02f6-7235-11ed-a3f9-082e5f739565.jpg',\n",
       " 'b90e5110-7235-11ed-8c49-082e5f739565.jpg',\n",
       " 'b90ec62b-7235-11ed-941b-082e5f739565.jpg',\n",
       " 'b90f143f-7235-11ed-92dd-082e5f739565.jpg',\n",
       " 'b90f895f-7235-11ed-8acc-082e5f739565.jpg',\n",
       " 'b91b9554-7235-11ed-9d5d-082e5f739565.jpg',\n",
       " 'b91c0a7e-7235-11ed-9ca3-082e5f739565.jpg',\n",
       " 'b91c7fa5-7235-11ed-9c1e-082e5f739565.jpg',\n",
       " 'b91ccdac-7235-11ed-b714-082e5f739565.jpg',\n",
       " 'b91e05fa-7235-11ed-9c19-082e5f739565.jpg',\n",
       " 'b91e7b1b-7235-11ed-8bd8-082e5f739565.jpg',\n",
       " 'b91ef038-7235-11ed-bb46-082e5f739565.jpg',\n",
       " 'b91f655e-7235-11ed-8c09-082e5f739565.jpg',\n",
       " 'b91fda64-7235-11ed-97d9-082e5f739565.jpg',\n",
       " 'b92be688-7235-11ed-a81b-082e5f739565.jpg',\n",
       " 'b92c5ba2-7235-11ed-8818-082e5f739565.jpg',\n",
       " 'b92cd0cc-7235-11ed-91ac-082e5f739565.jpg',\n",
       " 'b92d45cf-7235-11ed-93b8-082e5f739565.jpg',\n",
       " 'b92dbaf1-7235-11ed-ba8f-082e5f739565.jpg',\n",
       " 'b92e090d-7235-11ed-b8a7-082e5f739565.jpg',\n",
       " 'b92ea53a-7235-11ed-8c64-082e5f739565.jpg',\n",
       " 'b92f1a41-7235-11ed-8b16-082e5f739565.jpg',\n",
       " 'b92f8f75-7235-11ed-8b70-082e5f739565.jpg',\n",
       " 'b940cabe-7235-11ed-9523-082e5f739565.jpg',\n",
       " 'b94166e1-7235-11ed-9980-082e5f739565.jpg',\n",
       " 'b9420307-7235-11ed-a219-082e5f739565.jpg',\n",
       " 'b9427833-7235-11ed-8ba1-082e5f739565.jpg',\n",
       " 'b943144c-7235-11ed-95f1-082e5f739565.jpg',\n",
       " 'b943b070-7235-11ed-98c3-082e5f739565.jpg',\n",
       " 'b9444c9b-7235-11ed-92e7-082e5f739565.jpg',\n",
       " 'b944c1b9-7235-11ed-98bc-082e5f739565.jpg',\n",
       " 'b94536da-7235-11ed-b571-082e5f739565.jpg',\n",
       " 'b9597ef9-7235-11ed-b8e1-082e5f739565.jpg',\n",
       " 'b95a9030-7235-11ed-92fb-082e5f739565.jpg',\n",
       " 'b95b5364-7235-11ed-8ef8-082e5f739565.jpg',\n",
       " 'b95c1695-7235-11ed-b7fd-082e5f739565.jpg',\n",
       " 'b95d4eef-7235-11ed-bf31-082e5f739565.jpg',\n",
       " 'b95e121d-7235-11ed-b267-082e5f739565.jpg',\n",
       " 'b95ed551-7235-11ed-9a57-082e5f739565.jpg',\n",
       " 'b95f7181-7235-11ed-86ec-082e5f739565.jpg',\n",
       " 'b95fe69a-7235-11ed-bdb1-082e5f739565.jpg',\n",
       " 'b970fb00-7235-11ed-83f7-082e5f739565.jpg',\n",
       " 'b9719713-7235-11ed-b34e-082e5f739565.jpg',\n",
       " 'b972333e-7235-11ed-8681-082e5f739565.jpg',\n",
       " 'b972cf55-7235-11ed-8475-082e5f739565.jpg',\n",
       " 'b9734484-7235-11ed-8f10-082e5f739565.jpg',\n",
       " 'b973b9ad-7235-11ed-a733-082e5f739565.jpg',\n",
       " 'b9742eb8-7235-11ed-9bda-082e5f739565.jpg',\n",
       " 'b9747cd0-7235-11ed-af4f-082e5f739565.jpg',\n",
       " 'b97518fe-7235-11ed-95cc-082e5f739565.jpg',\n",
       " 'b984a6d5-7235-11ed-99c1-082e5f739565.jpg',\n",
       " 'b9851bff-7235-11ed-8f8b-082e5f739565.jpg',\n",
       " 'b985911c-7235-11ed-8038-082e5f739565.jpg',\n",
       " 'b9860630-7235-11ed-9f29-082e5f739565.jpg',\n",
       " 'b9867b57-7235-11ed-a83a-082e5f739565.jpg',\n",
       " 'b986c958-7235-11ed-bf03-082e5f739565.jpg',\n",
       " 'b9873e7d-7235-11ed-b23f-082e5f739565.jpg',\n",
       " 'b987b396-7235-11ed-a268-082e5f739565.jpg',\n",
       " 'b9884fc6-7235-11ed-96de-082e5f739565.jpg',\n",
       " 'b9998b1d-7235-11ed-81ad-082e5f739565.jpg',\n",
       " 'b99ac36f-7235-11ed-b774-082e5f739565.jpg',\n",
       " 'b99b1189-7235-11ed-89af-082e5f739565.jpg',\n",
       " 'b99b86a0-7235-11ed-9427-082e5f739565.jpg',\n",
       " 'b99bfbc0-7235-11ed-894a-082e5f739565.jpg',\n",
       " 'b99c70db-7235-11ed-a4a9-082e5f739565.jpg',\n",
       " 'b99cbeef-7235-11ed-963f-082e5f739565.jpg',\n",
       " 'b99d3413-7235-11ed-a13c-082e5f739565.jpg',\n",
       " 'b99dd02e-7235-11ed-9773-082e5f739565.jpg',\n",
       " 'b9e49207-7235-11ed-a0f1-082e5f739565.jpg',\n",
       " 'b9e5071b-7235-11ed-be8b-082e5f739565.jpg',\n",
       " 'b9e8620a-7235-11ed-8ff2-082e5f739565.jpg',\n",
       " 'b9f7a1e2-7235-11ed-9980-082e5f739565.jpg',\n",
       " 'b9f83e02-7235-11ed-9594-082e5f739565.jpg',\n",
       " 'b9f8b313-7235-11ed-83e8-082e5f739565.jpg',\n",
       " 'b9f92833-7235-11ed-a88b-082e5f739565.jpg',\n",
       " 'b9f9c464-7235-11ed-9405-082e5f739565.jpg',\n",
       " 'b9fa3985-7235-11ed-a681-082e5f739565.jpg',\n",
       " 'b9fa8796-7235-11ed-9fb5-082e5f739565.jpg',\n",
       " 'b9fafcb4-7235-11ed-9baf-082e5f739565.jpg',\n",
       " 'b9fb4ab9-7235-11ed-a2a1-082e5f739565.jpg',\n",
       " 'ba09a061-7235-11ed-adbd-082e5f739565.jpg',\n",
       " 'ba0a1573-7235-11ed-a754-082e5f739565.jpg',\n",
       " 'ba0a8a93-7235-11ed-8ba4-082e5f739565.jpg',\n",
       " 'ba0affc3-7235-11ed-91bd-082e5f739565.jpg',\n",
       " 'ba0b74d7-7235-11ed-af32-082e5f739565.jpg',\n",
       " 'ba0bc2f8-7235-11ed-a690-082e5f739565.jpg',\n",
       " 'ba0c3820-7235-11ed-a297-082e5f739565.jpg',\n",
       " 'ba0cad25-7235-11ed-8d40-082e5f739565.jpg',\n",
       " 'ba0d223b-7235-11ed-a86e-082e5f739565.jpg',\n",
       " 'ba1cb032-7235-11ed-a315-082e5f739565.jpg',\n",
       " 'ba1d4c4f-7235-11ed-b68b-082e5f739565.jpg',\n",
       " 'ba1dc16b-7235-11ed-8904-082e5f739565.jpg',\n",
       " 'ba1e368a-7235-11ed-a87f-082e5f739565.jpg',\n",
       " 'ba1eabaa-7235-11ed-912e-082e5f739565.jpg',\n",
       " 'ba1f47e1-7235-11ed-964f-082e5f739565.jpg',\n",
       " 'ba1fbcec-7235-11ed-aa3f-082e5f739565.jpg',\n",
       " 'ba20a731-7235-11ed-a53f-082e5f739565.jpg',\n",
       " 'ba211c54-7235-11ed-99af-082e5f739565.jpg',\n",
       " 'ba30d146-7235-11ed-880c-082e5f739565.jpg',\n",
       " 'ba316d70-7235-11ed-ad2a-082e5f739565.jpg',\n",
       " 'ba31e282-7235-11ed-a44d-082e5f739565.jpg',\n",
       " 'ba3257a1-7235-11ed-883a-082e5f739565.jpg',\n",
       " 'ba32ccce-7235-11ed-9d80-082e5f739565.jpg',\n",
       " 'ba3368eb-7235-11ed-9ff0-082e5f739565.jpg',\n",
       " 'ba33ddff-7235-11ed-bb04-082e5f739565.jpg',\n",
       " 'ba347a27-7235-11ed-8e78-082e5f739565.jpg',\n",
       " 'ba34ef3e-7235-11ed-b27e-082e5f739565.jpg',\n",
       " 'ba44cb50-7235-11ed-9947-082e5f739565.jpg',\n",
       " 'ba454076-7235-11ed-9096-082e5f739565.jpg',\n",
       " 'ba458e7a-7235-11ed-8e01-082e5f739565.jpg',\n",
       " 'ba460399-7235-11ed-8f77-082e5f739565.jpg',\n",
       " 'ba4651ad-7235-11ed-a266-082e5f739565.jpg',\n",
       " 'ba46c6d6-7235-11ed-bc4b-082e5f739565.jpg',\n",
       " 'ba473bf5-7235-11ed-9544-082e5f739565.jpg',\n",
       " 'ba47b0fe-7235-11ed-b7e5-082e5f739565.jpg',\n",
       " 'ba48261a-7235-11ed-958e-082e5f739565.jpg',\n",
       " 'ba56c9de-7235-11ed-85c5-082e5f739565.jpg',\n",
       " 'ba573eec-7235-11ed-a41e-082e5f739565.jpg',\n",
       " 'ba57b407-7235-11ed-b527-082e5f739565.jpg',\n",
       " 'ba582925-7235-11ed-b3c7-082e5f739565.jpg',\n",
       " 'ba587737-7235-11ed-93c8-082e5f739565.jpg',\n",
       " 'ba591372-7235-11ed-beb6-082e5f739565.jpg',\n",
       " 'ba598893-7235-11ed-b3e7-082e5f739565.jpg',\n",
       " 'ba59d69d-7235-11ed-ac68-082e5f739565.jpg',\n",
       " 'ba5a4bb9-7235-11ed-918d-082e5f739565.jpg',\n",
       " 'ba696486-7235-11ed-bb53-082e5f739565.jpg',\n",
       " 'ba6a00b7-7235-11ed-b64c-082e5f739565.jpg',\n",
       " 'ba6ac3e1-7235-11ed-abf4-082e5f739565.jpg',\n",
       " 'ba6b3904-7235-11ed-83a1-082e5f739565.jpg',\n",
       " 'ba6bd529-7235-11ed-b9c1-082e5f739565.jpg',\n",
       " 'ba6c4a38-7235-11ed-a235-082e5f739565.jpg',\n",
       " 'ba6cbf69-7235-11ed-8557-082e5f739565.jpg',\n",
       " 'ba6d3483-7235-11ed-bbc4-082e5f739565.jpg',\n",
       " 'ba6dd099-7235-11ed-91af-082e5f739565.jpg',\n",
       " 'ba7dd3a8-7235-11ed-9b64-082e5f739565.jpg',\n",
       " 'ba7e48c2-7235-11ed-b68a-082e5f739565.jpg',\n",
       " 'ba7ee4f9-7235-11ed-80c9-082e5f739565.jpg',\n",
       " 'ba7fa816-7235-11ed-a3a6-082e5f739565.jpg',\n",
       " 'ba804454-7235-11ed-8fe2-082e5f739565.jpg',\n",
       " 'ba80e06d-7235-11ed-bc6c-082e5f739565.jpg',\n",
       " 'ba817c92-7235-11ed-a071-082e5f739565.jpg',\n",
       " 'ba8218c6-7235-11ed-957b-082e5f739565.jpg',\n",
       " 'ba82b4e7-7235-11ed-8830-082e5f739565.jpg',\n",
       " 'ba94da9b-7235-11ed-b660-082e5f739565.jpg',\n",
       " 'ba954f99-7235-11ed-9b7e-082e5f739565.jpg',\n",
       " 'ba95c4ad-7235-11ed-93ba-082e5f739565.jpg',\n",
       " 'ba9660df-7235-11ed-bd74-082e5f739565.jpg',\n",
       " 'ba96d5fb-7235-11ed-83ff-082e5f739565.jpg',\n",
       " 'ba974b20-7235-11ed-aae8-082e5f739565.jpg',\n",
       " 'ba97c039-7235-11ed-bd5d-082e5f739565.jpg',\n",
       " 'ba983563-7235-11ed-8c32-082e5f739565.jpg',\n",
       " 'ba98aa71-7235-11ed-8ed8-082e5f739565.jpg',\n",
       " 'baa79c4c-7235-11ed-a1d3-082e5f739565.jpg',\n",
       " 'baa8114b-7235-11ed-8c5a-082e5f739565.jpg',\n",
       " 'baa922a0-7235-11ed-b27b-082e5f739565.jpg',\n",
       " 'baa997b3-7235-11ed-b8c2-082e5f739565.jpg',\n",
       " 'baaa0cce-7235-11ed-8827-082e5f739565.jpg',\n",
       " 'baaa81f0-7235-11ed-8760-082e5f739565.jpg',\n",
       " 'baaaf723-7235-11ed-b913-082e5f739565.jpg',\n",
       " 'baab6c21-7235-11ed-bc4f-082e5f739565.jpg',\n",
       " 'baabe142-7235-11ed-b296-082e5f739565.jpg',\n",
       " 'babdb8c5-7235-11ed-8149-082e5f739565.jpg',\n",
       " 'babe54e9-7235-11ed-9bc5-082e5f739565.jpg',\n",
       " 'babf1821-7235-11ed-bfda-082e5f739565.jpg',\n",
       " 'babfb44a-7235-11ed-9f22-082e5f739565.jpg',\n",
       " 'bac0506d-7235-11ed-88fc-082e5f739565.jpg',\n",
       " 'bac13aaf-7235-11ed-a132-082e5f739565.jpg',\n",
       " 'bac3362b-7235-11ed-9ffa-082e5f739565.jpg',\n",
       " 'bac4476e-7235-11ed-8e06-082e5f739565.jpg',\n",
       " 'bac4e393-7235-11ed-bc2c-082e5f739565.jpg',\n",
       " 'bae9a3fb-7235-11ed-8558-082e5f739565.jpg',\n",
       " 'baea3fff-7235-11ed-92ab-082e5f739565.jpg']"
      ]
     },
     "execution_count": 77,
     "metadata": {},
     "output_type": "execute_result"
    }
   ],
   "source": [
    "os.listdir(os.path.join('application_data', 'verification_images'))"
   ]
  },
  {
   "cell_type": "code",
   "execution_count": 78,
   "metadata": {},
   "outputs": [
    {
     "data": {
      "text/plain": [
       "'application_data\\\\input_image\\\\input_image.jpg'"
      ]
     },
     "execution_count": 78,
     "metadata": {},
     "output_type": "execute_result"
    }
   ],
   "source": [
    "os.path.join('application_data', 'input_image', 'input_image.jpg')"
   ]
  },
  {
   "cell_type": "code",
   "execution_count": 79,
   "metadata": {
    "scrolled": true
   },
   "outputs": [
    {
     "name": "stdout",
     "output_type": "stream",
     "text": [
      "application_data\\verification_images\\1825fc0d-7235-11ed-b725-082e5f739565.jpg\n",
      "application_data\\verification_images\\1969ca5a-7235-11ed-bd5b-082e5f739565.jpg\n",
      "application_data\\verification_images\\20a61a77-7235-11ed-a3e8-082e5f739565.jpg\n",
      "application_data\\verification_images\\26e51cc2-7235-11ed-a1e7-082e5f739565.jpg\n",
      "application_data\\verification_images\\28ce7e35-7235-11ed-99cf-082e5f739565.jpg\n",
      "application_data\\verification_images\\29174f6a-7235-11ed-aeeb-082e5f739565.jpg\n",
      "application_data\\verification_images\\295d5c20-7235-11ed-8b66-082e5f739565.jpg\n",
      "application_data\\verification_images\\29e7ce2c-7235-11ed-b01e-082e5f739565.jpg\n",
      "application_data\\verification_images\\30d42eec-7235-11ed-9b15-082e5f739565.jpg\n",
      "application_data\\verification_images\\315d66c0-7235-11ed-a42c-082e5f739565.jpg\n",
      "application_data\\verification_images\\3379a1ec-7235-11ed-8e9e-082e5f739565.jpg\n",
      "application_data\\verification_images\\33d5c745-7235-11ed-a2e7-082e5f739565.jpg\n",
      "application_data\\verification_images\\36e282aa-7235-11ed-8b12-082e5f739565.jpg\n",
      "application_data\\verification_images\\371c791c-7235-11ed-92af-082e5f739565.jpg\n",
      "application_data\\verification_images\\379ed95f-7235-11ed-9a03-082e5f739565.jpg\n",
      "application_data\\verification_images\\37dfccb2-7235-11ed-aa84-082e5f739565.jpg\n",
      "application_data\\verification_images\\39bd042e-7235-11ed-b25d-082e5f739565.jpg\n",
      "application_data\\verification_images\\39f4aa64-7235-11ed-b8b0-082e5f739565.jpg\n",
      "application_data\\verification_images\\3ca1a7d4-7235-11ed-a077-082e5f739565.jpg\n",
      "application_data\\verification_images\\3d3fc727-7235-11ed-9df0-082e5f739565.jpg\n",
      "application_data\\verification_images\\3db147a7-7235-11ed-acd4-082e5f739565.jpg\n",
      "application_data\\verification_images\\3dd521a2-7235-11ed-9644-082e5f739565.jpg\n",
      "application_data\\verification_images\\3e095ff3-7235-11ed-9229-082e5f739565.jpg\n",
      "application_data\\verification_images\\402f30c4-7235-11ed-8050-082e5f739565.jpg\n",
      "application_data\\verification_images\\419b6b31-7235-11ed-b0db-082e5f739565.jpg\n",
      "application_data\\verification_images\\423e14e9-7235-11ed-a1b6-082e5f739565.jpg\n",
      "application_data\\verification_images\\42693f18-7235-11ed-b6eb-082e5f739565.jpg\n",
      "application_data\\verification_images\\42c5b85d-7235-11ed-b36c-082e5f739565.jpg\n",
      "application_data\\verification_images\\42f01b70-7235-11ed-9930-082e5f739565.jpg\n",
      "application_data\\verification_images\\43d60171-7235-11ed-b250-082e5f739565.jpg\n",
      "application_data\\verification_images\\4429e053-7235-11ed-ac97-082e5f739565.jpg\n",
      "application_data\\verification_images\\44eab75e-7235-11ed-84ee-082e5f739565.jpg\n",
      "application_data\\verification_images\\45e02209-7235-11ed-9cc7-082e5f739565.jpg\n",
      "application_data\\verification_images\\46594b2a-7235-11ed-86a1-082e5f739565.jpg\n",
      "application_data\\verification_images\\467f748b-7235-11ed-8b92-082e5f739565.jpg\n",
      "application_data\\verification_images\\46a93897-7235-11ed-9898-082e5f739565.jpg\n",
      "application_data\\verification_images\\46d38020-7235-11ed-9613-082e5f739565.jpg\n",
      "application_data\\verification_images\\47ec962a-7235-11ed-b0c3-082e5f739565.jpg\n",
      "application_data\\verification_images\\484dac69-7235-11ed-a168-082e5f739565.jpg\n",
      "application_data\\verification_images\\48a89d40-7235-11ed-8351-082e5f739565.jpg\n",
      "application_data\\verification_images\\48d8a66c-7235-11ed-80bb-082e5f739565.jpg\n",
      "application_data\\verification_images\\49cef2ba-7235-11ed-976c-082e5f739565.jpg\n",
      "application_data\\verification_images\\4a2590a6-7235-11ed-8c49-082e5f739565.jpg\n",
      "application_data\\verification_images\\4a740289-7235-11ed-8a10-082e5f739565.jpg\n",
      "application_data\\verification_images\\4acfb19f-7235-11ed-b341-082e5f739565.jpg\n",
      "application_data\\verification_images\\4c985266-7235-11ed-b327-082e5f739565.jpg\n",
      "application_data\\verification_images\\4cc280ac-7235-11ed-86cd-082e5f739565.jpg\n",
      "application_data\\verification_images\\4cecb0c1-7235-11ed-b4a3-082e5f739565.jpg\n",
      "application_data\\verification_images\\4d0ef575-7235-11ed-902c-082e5f739565.jpg\n",
      "application_data\\verification_images\\4d61272a-7235-11ed-b19a-082e5f739565.jpg\n",
      "application_data\\verification_images\\4d8aa66b-7235-11ed-860e-082e5f739565.jpg\n",
      "application_data\\verification_images\\4e0a8ad8-7235-11ed-9933-082e5f739565.jpg\n",
      "application_data\\verification_images\\4e596573-7235-11ed-a015-082e5f739565.jpg\n",
      "application_data\\verification_images\\4e7de73e-7235-11ed-ac15-082e5f739565.jpg\n",
      "application_data\\verification_images\\4ea222b0-7235-11ed-a320-082e5f739565.jpg\n",
      "application_data\\verification_images\\4ecb5a3a-7235-11ed-b68e-082e5f739565.jpg\n",
      "application_data\\verification_images\\5047e6e0-7235-11ed-a9eb-082e5f739565.jpg\n",
      "application_data\\verification_images\\5073b8dd-7235-11ed-bdd9-082e5f739565.jpg\n",
      "application_data\\verification_images\\509ee537-7235-11ed-9c1b-082e5f739565.jpg\n",
      "application_data\\verification_images\\50fb5cf7-7235-11ed-a14d-082e5f739565.jpg\n",
      "application_data\\verification_images\\519aa83b-7235-11ed-b9a3-082e5f739565.jpg\n",
      "application_data\\verification_images\\51e7b618-7235-11ed-b637-082e5f739565.jpg\n",
      "application_data\\verification_images\\531e56b9-7235-11ed-a490-082e5f739565.jpg\n",
      "application_data\\verification_images\\53ca0a5f-7235-11ed-ab69-082e5f739565.jpg\n",
      "application_data\\verification_images\\549b6672-7235-11ed-8552-082e5f739565.jpg\n",
      "application_data\\verification_images\\550cf407-7235-11ed-b192-082e5f739565.jpg\n",
      "application_data\\verification_images\\b830f544-7235-11ed-b98c-082e5f739565.jpg\n",
      "application_data\\verification_images\\b8316a61-7235-11ed-afca-082e5f739565.jpg\n",
      "application_data\\verification_images\\b831df8f-7235-11ed-b494-082e5f739565.jpg\n",
      "application_data\\verification_images\\b8322d93-7235-11ed-8da3-082e5f739565.jpg\n",
      "application_data\\verification_images\\b8327bad-7235-11ed-b5d9-082e5f739565.jpg\n",
      "application_data\\verification_images\\b832f0c4-7235-11ed-beca-082e5f739565.jpg\n",
      "application_data\\verification_images\\b8333ed7-7235-11ed-abc4-082e5f739565.jpg\n",
      "application_data\\verification_images\\b8338ceb-7235-11ed-985c-082e5f739565.jpg\n",
      "application_data\\verification_images\\b8340222-7235-11ed-ab0e-082e5f739565.jpg\n",
      "application_data\\verification_images\\b83f6fd0-7235-11ed-91b5-082e5f739565.jpg\n",
      "application_data\\verification_images\\b83fe523-7235-11ed-925a-082e5f739565.jpg\n",
      "application_data\\verification_images\\b840332b-7235-11ed-bc11-082e5f739565.jpg\n",
      "application_data\\verification_images\\b8408140-7235-11ed-8e29-082e5f739565.jpg\n",
      "application_data\\verification_images\\b840cf52-7235-11ed-94a2-082e5f739565.jpg\n",
      "application_data\\verification_images\\b8414470-7235-11ed-a46c-082e5f739565.jpg\n",
      "application_data\\verification_images\\b8419287-7235-11ed-8cd1-082e5f739565.jpg\n",
      "application_data\\verification_images\\b841e098-7235-11ed-82c2-082e5f739565.jpg\n",
      "application_data\\verification_images\\b84255b5-7235-11ed-939d-082e5f739565.jpg\n",
      "application_data\\verification_images\\b84d9a96-7235-11ed-97d4-082e5f739565.jpg\n",
      "application_data\\verification_images\\b84de8a9-7235-11ed-8b73-082e5f739565.jpg\n",
      "application_data\\verification_images\\b84e5dc6-7235-11ed-b872-082e5f739565.jpg\n",
      "application_data\\verification_images\\b84ed2e4-7235-11ed-a3e4-082e5f739565.jpg\n",
      "application_data\\verification_images\\b84f20f7-7235-11ed-bac2-082e5f739565.jpg\n",
      "application_data\\verification_images\\b84f839e-7235-11ed-b13f-082e5f739565.jpg\n",
      "application_data\\verification_images\\b84fe6a7-7235-11ed-808f-082e5f739565.jpg\n",
      "application_data\\verification_images\\b8505bc7-7235-11ed-907f-082e5f739565.jpg\n",
      "application_data\\verification_images\\b850a9db-7235-11ed-b399-082e5f739565.jpg\n",
      "application_data\\verification_images\\b85c856d-7235-11ed-b112-082e5f739565.jpg\n",
      "application_data\\verification_images\\b85cfa89-7235-11ed-935c-082e5f739565.jpg\n",
      "application_data\\verification_images\\b85d682c-7235-11ed-8889-082e5f739565.jpg\n",
      "application_data\\verification_images\\b85db643-7235-11ed-8ecc-082e5f739565.jpg\n",
      "application_data\\verification_images\\b85e0452-7235-11ed-9440-082e5f739565.jpg\n",
      "application_data\\verification_images\\b85e7975-7235-11ed-b6bf-082e5f739565.jpg\n",
      "application_data\\verification_images\\b85ec222-7235-11ed-b880-082e5f739565.jpg\n",
      "application_data\\verification_images\\b85f373e-7235-11ed-8a2e-082e5f739565.jpg\n",
      "application_data\\verification_images\\b85fac61-7235-11ed-9024-082e5f739565.jpg\n",
      "application_data\\verification_images\\b86af6a8-7235-11ed-897e-082e5f739565.jpg\n",
      "application_data\\verification_images\\b86b6bf1-7235-11ed-8ab4-082e5f739565.jpg\n",
      "application_data\\verification_images\\b86be711-7235-11ed-b431-082e5f739565.jpg\n",
      "application_data\\verification_images\\b86c3528-7235-11ed-b11f-082e5f739565.jpg\n",
      "application_data\\verification_images\\b86c8339-7235-11ed-a8d0-082e5f739565.jpg\n",
      "application_data\\verification_images\\b86cf856-7235-11ed-b50e-082e5f739565.jpg\n",
      "application_data\\verification_images\\b86d466b-7235-11ed-945e-082e5f739565.jpg\n",
      "application_data\\verification_images\\b86d947c-7235-11ed-93fd-082e5f739565.jpg\n",
      "application_data\\verification_images\\b86e099b-7235-11ed-a72d-082e5f739565.jpg\n",
      "application_data\\verification_images\\b878db1e-7235-11ed-a79f-082e5f739565.jpg\n",
      "application_data\\verification_images\\b8795041-7235-11ed-9150-082e5f739565.jpg\n",
      "application_data\\verification_images\\b879c55d-7235-11ed-99a9-082e5f739565.jpg\n",
      "application_data\\verification_images\\b87a1376-7235-11ed-9115-082e5f739565.jpg\n",
      "application_data\\verification_images\\b87a618c-7235-11ed-becb-082e5f739565.jpg\n",
      "application_data\\verification_images\\b87ad6a4-7235-11ed-a11e-082e5f739565.jpg\n",
      "application_data\\verification_images\\b87b24b8-7235-11ed-b759-082e5f739565.jpg\n",
      "application_data\\verification_images\\b87b72d1-7235-11ed-9b8d-082e5f739565.jpg\n",
      "application_data\\verification_images\\b87be7e9-7235-11ed-9560-082e5f739565.jpg\n",
      "application_data\\verification_images\\b88754a4-7235-11ed-aba7-082e5f739565.jpg\n",
      "application_data\\verification_images\\b887c9c2-7235-11ed-a8e6-082e5f739565.jpg\n",
      "application_data\\verification_images\\b8883ede-7235-11ed-8c8d-082e5f739565.jpg\n",
      "application_data\\verification_images\\b8888cf3-7235-11ed-b54a-082e5f739565.jpg\n",
      "application_data\\verification_images\\b889020f-7235-11ed-bb13-082e5f739565.jpg\n",
      "application_data\\verification_images\\b889773a-7235-11ed-96a1-082e5f739565.jpg\n",
      "application_data\\verification_images\\b889c54f-7235-11ed-bbd1-082e5f739565.jpg\n",
      "application_data\\verification_images\\b88a3a6f-7235-11ed-871a-082e5f739565.jpg\n",
      "application_data\\verification_images\\b88a8882-7235-11ed-b700-082e5f739565.jpg\n",
      "application_data\\verification_images\\b895eaff-7235-11ed-933a-082e5f739565.jpg\n",
      "application_data\\verification_images\\b896602b-7235-11ed-8d71-082e5f739565.jpg\n",
      "application_data\\verification_images\\b896ae3d-7235-11ed-b9e9-082e5f739565.jpg\n",
      "application_data\\verification_images\\b8972358-7235-11ed-a720-082e5f739565.jpg\n",
      "application_data\\verification_images\\b897716b-7235-11ed-bd19-082e5f739565.jpg\n",
      "application_data\\verification_images\\b897e6b2-7235-11ed-8df5-082e5f739565.jpg\n",
      "application_data\\verification_images\\b898349e-7235-11ed-bf1c-082e5f739565.jpg\n",
      "application_data\\verification_images\\b89882b4-7235-11ed-a775-082e5f739565.jpg\n",
      "application_data\\verification_images\\b898f7d2-7235-11ed-a541-082e5f739565.jpg\n",
      "application_data\\verification_images\\b90c2e85-7235-11ed-9d08-082e5f739565.jpg\n",
      "application_data\\verification_images\\b90c7c91-7235-11ed-aa88-082e5f739565.jpg\n",
      "application_data\\verification_images\\b90cf1b0-7235-11ed-944a-082e5f739565.jpg\n",
      "application_data\\verification_images\\b90d66d4-7235-11ed-b45f-082e5f739565.jpg\n",
      "application_data\\verification_images\\b90e02f6-7235-11ed-a3f9-082e5f739565.jpg\n",
      "application_data\\verification_images\\b90e5110-7235-11ed-8c49-082e5f739565.jpg\n",
      "application_data\\verification_images\\b90ec62b-7235-11ed-941b-082e5f739565.jpg\n",
      "application_data\\verification_images\\b90f143f-7235-11ed-92dd-082e5f739565.jpg\n",
      "application_data\\verification_images\\b90f895f-7235-11ed-8acc-082e5f739565.jpg\n",
      "application_data\\verification_images\\b91b9554-7235-11ed-9d5d-082e5f739565.jpg\n",
      "application_data\\verification_images\\b91c0a7e-7235-11ed-9ca3-082e5f739565.jpg\n",
      "application_data\\verification_images\\b91c7fa5-7235-11ed-9c1e-082e5f739565.jpg\n",
      "application_data\\verification_images\\b91ccdac-7235-11ed-b714-082e5f739565.jpg\n",
      "application_data\\verification_images\\b91e05fa-7235-11ed-9c19-082e5f739565.jpg\n",
      "application_data\\verification_images\\b91e7b1b-7235-11ed-8bd8-082e5f739565.jpg\n",
      "application_data\\verification_images\\b91ef038-7235-11ed-bb46-082e5f739565.jpg\n",
      "application_data\\verification_images\\b91f655e-7235-11ed-8c09-082e5f739565.jpg\n",
      "application_data\\verification_images\\b91fda64-7235-11ed-97d9-082e5f739565.jpg\n",
      "application_data\\verification_images\\b92be688-7235-11ed-a81b-082e5f739565.jpg\n",
      "application_data\\verification_images\\b92c5ba2-7235-11ed-8818-082e5f739565.jpg\n",
      "application_data\\verification_images\\b92cd0cc-7235-11ed-91ac-082e5f739565.jpg\n",
      "application_data\\verification_images\\b92d45cf-7235-11ed-93b8-082e5f739565.jpg\n",
      "application_data\\verification_images\\b92dbaf1-7235-11ed-ba8f-082e5f739565.jpg\n",
      "application_data\\verification_images\\b92e090d-7235-11ed-b8a7-082e5f739565.jpg\n",
      "application_data\\verification_images\\b92ea53a-7235-11ed-8c64-082e5f739565.jpg\n",
      "application_data\\verification_images\\b92f1a41-7235-11ed-8b16-082e5f739565.jpg\n",
      "application_data\\verification_images\\b92f8f75-7235-11ed-8b70-082e5f739565.jpg\n",
      "application_data\\verification_images\\b940cabe-7235-11ed-9523-082e5f739565.jpg\n",
      "application_data\\verification_images\\b94166e1-7235-11ed-9980-082e5f739565.jpg\n",
      "application_data\\verification_images\\b9420307-7235-11ed-a219-082e5f739565.jpg\n",
      "application_data\\verification_images\\b9427833-7235-11ed-8ba1-082e5f739565.jpg\n",
      "application_data\\verification_images\\b943144c-7235-11ed-95f1-082e5f739565.jpg\n",
      "application_data\\verification_images\\b943b070-7235-11ed-98c3-082e5f739565.jpg\n",
      "application_data\\verification_images\\b9444c9b-7235-11ed-92e7-082e5f739565.jpg\n",
      "application_data\\verification_images\\b944c1b9-7235-11ed-98bc-082e5f739565.jpg\n",
      "application_data\\verification_images\\b94536da-7235-11ed-b571-082e5f739565.jpg\n",
      "application_data\\verification_images\\b9597ef9-7235-11ed-b8e1-082e5f739565.jpg\n",
      "application_data\\verification_images\\b95a9030-7235-11ed-92fb-082e5f739565.jpg\n",
      "application_data\\verification_images\\b95b5364-7235-11ed-8ef8-082e5f739565.jpg\n",
      "application_data\\verification_images\\b95c1695-7235-11ed-b7fd-082e5f739565.jpg\n",
      "application_data\\verification_images\\b95d4eef-7235-11ed-bf31-082e5f739565.jpg\n",
      "application_data\\verification_images\\b95e121d-7235-11ed-b267-082e5f739565.jpg\n",
      "application_data\\verification_images\\b95ed551-7235-11ed-9a57-082e5f739565.jpg\n",
      "application_data\\verification_images\\b95f7181-7235-11ed-86ec-082e5f739565.jpg\n",
      "application_data\\verification_images\\b95fe69a-7235-11ed-bdb1-082e5f739565.jpg\n",
      "application_data\\verification_images\\b970fb00-7235-11ed-83f7-082e5f739565.jpg\n",
      "application_data\\verification_images\\b9719713-7235-11ed-b34e-082e5f739565.jpg\n",
      "application_data\\verification_images\\b972333e-7235-11ed-8681-082e5f739565.jpg\n",
      "application_data\\verification_images\\b972cf55-7235-11ed-8475-082e5f739565.jpg\n",
      "application_data\\verification_images\\b9734484-7235-11ed-8f10-082e5f739565.jpg\n",
      "application_data\\verification_images\\b973b9ad-7235-11ed-a733-082e5f739565.jpg\n",
      "application_data\\verification_images\\b9742eb8-7235-11ed-9bda-082e5f739565.jpg\n",
      "application_data\\verification_images\\b9747cd0-7235-11ed-af4f-082e5f739565.jpg\n",
      "application_data\\verification_images\\b97518fe-7235-11ed-95cc-082e5f739565.jpg\n",
      "application_data\\verification_images\\b984a6d5-7235-11ed-99c1-082e5f739565.jpg\n",
      "application_data\\verification_images\\b9851bff-7235-11ed-8f8b-082e5f739565.jpg\n",
      "application_data\\verification_images\\b985911c-7235-11ed-8038-082e5f739565.jpg\n",
      "application_data\\verification_images\\b9860630-7235-11ed-9f29-082e5f739565.jpg\n",
      "application_data\\verification_images\\b9867b57-7235-11ed-a83a-082e5f739565.jpg\n",
      "application_data\\verification_images\\b986c958-7235-11ed-bf03-082e5f739565.jpg\n",
      "application_data\\verification_images\\b9873e7d-7235-11ed-b23f-082e5f739565.jpg\n",
      "application_data\\verification_images\\b987b396-7235-11ed-a268-082e5f739565.jpg\n",
      "application_data\\verification_images\\b9884fc6-7235-11ed-96de-082e5f739565.jpg\n",
      "application_data\\verification_images\\b9998b1d-7235-11ed-81ad-082e5f739565.jpg\n",
      "application_data\\verification_images\\b99ac36f-7235-11ed-b774-082e5f739565.jpg\n",
      "application_data\\verification_images\\b99b1189-7235-11ed-89af-082e5f739565.jpg\n",
      "application_data\\verification_images\\b99b86a0-7235-11ed-9427-082e5f739565.jpg\n",
      "application_data\\verification_images\\b99bfbc0-7235-11ed-894a-082e5f739565.jpg\n",
      "application_data\\verification_images\\b99c70db-7235-11ed-a4a9-082e5f739565.jpg\n",
      "application_data\\verification_images\\b99cbeef-7235-11ed-963f-082e5f739565.jpg\n",
      "application_data\\verification_images\\b99d3413-7235-11ed-a13c-082e5f739565.jpg\n",
      "application_data\\verification_images\\b99dd02e-7235-11ed-9773-082e5f739565.jpg\n",
      "application_data\\verification_images\\b9e49207-7235-11ed-a0f1-082e5f739565.jpg\n",
      "application_data\\verification_images\\b9e5071b-7235-11ed-be8b-082e5f739565.jpg\n",
      "application_data\\verification_images\\b9e8620a-7235-11ed-8ff2-082e5f739565.jpg\n",
      "application_data\\verification_images\\b9f7a1e2-7235-11ed-9980-082e5f739565.jpg\n",
      "application_data\\verification_images\\b9f83e02-7235-11ed-9594-082e5f739565.jpg\n",
      "application_data\\verification_images\\b9f8b313-7235-11ed-83e8-082e5f739565.jpg\n",
      "application_data\\verification_images\\b9f92833-7235-11ed-a88b-082e5f739565.jpg\n",
      "application_data\\verification_images\\b9f9c464-7235-11ed-9405-082e5f739565.jpg\n",
      "application_data\\verification_images\\b9fa3985-7235-11ed-a681-082e5f739565.jpg\n",
      "application_data\\verification_images\\b9fa8796-7235-11ed-9fb5-082e5f739565.jpg\n",
      "application_data\\verification_images\\b9fafcb4-7235-11ed-9baf-082e5f739565.jpg\n",
      "application_data\\verification_images\\b9fb4ab9-7235-11ed-a2a1-082e5f739565.jpg\n",
      "application_data\\verification_images\\ba09a061-7235-11ed-adbd-082e5f739565.jpg\n",
      "application_data\\verification_images\\ba0a1573-7235-11ed-a754-082e5f739565.jpg\n",
      "application_data\\verification_images\\ba0a8a93-7235-11ed-8ba4-082e5f739565.jpg\n",
      "application_data\\verification_images\\ba0affc3-7235-11ed-91bd-082e5f739565.jpg\n",
      "application_data\\verification_images\\ba0b74d7-7235-11ed-af32-082e5f739565.jpg\n",
      "application_data\\verification_images\\ba0bc2f8-7235-11ed-a690-082e5f739565.jpg\n",
      "application_data\\verification_images\\ba0c3820-7235-11ed-a297-082e5f739565.jpg\n",
      "application_data\\verification_images\\ba0cad25-7235-11ed-8d40-082e5f739565.jpg\n",
      "application_data\\verification_images\\ba0d223b-7235-11ed-a86e-082e5f739565.jpg\n",
      "application_data\\verification_images\\ba1cb032-7235-11ed-a315-082e5f739565.jpg\n",
      "application_data\\verification_images\\ba1d4c4f-7235-11ed-b68b-082e5f739565.jpg\n",
      "application_data\\verification_images\\ba1dc16b-7235-11ed-8904-082e5f739565.jpg\n",
      "application_data\\verification_images\\ba1e368a-7235-11ed-a87f-082e5f739565.jpg\n",
      "application_data\\verification_images\\ba1eabaa-7235-11ed-912e-082e5f739565.jpg\n",
      "application_data\\verification_images\\ba1f47e1-7235-11ed-964f-082e5f739565.jpg\n",
      "application_data\\verification_images\\ba1fbcec-7235-11ed-aa3f-082e5f739565.jpg\n",
      "application_data\\verification_images\\ba20a731-7235-11ed-a53f-082e5f739565.jpg\n",
      "application_data\\verification_images\\ba211c54-7235-11ed-99af-082e5f739565.jpg\n",
      "application_data\\verification_images\\ba30d146-7235-11ed-880c-082e5f739565.jpg\n",
      "application_data\\verification_images\\ba316d70-7235-11ed-ad2a-082e5f739565.jpg\n",
      "application_data\\verification_images\\ba31e282-7235-11ed-a44d-082e5f739565.jpg\n",
      "application_data\\verification_images\\ba3257a1-7235-11ed-883a-082e5f739565.jpg\n",
      "application_data\\verification_images\\ba32ccce-7235-11ed-9d80-082e5f739565.jpg\n",
      "application_data\\verification_images\\ba3368eb-7235-11ed-9ff0-082e5f739565.jpg\n",
      "application_data\\verification_images\\ba33ddff-7235-11ed-bb04-082e5f739565.jpg\n",
      "application_data\\verification_images\\ba347a27-7235-11ed-8e78-082e5f739565.jpg\n",
      "application_data\\verification_images\\ba34ef3e-7235-11ed-b27e-082e5f739565.jpg\n",
      "application_data\\verification_images\\ba44cb50-7235-11ed-9947-082e5f739565.jpg\n",
      "application_data\\verification_images\\ba454076-7235-11ed-9096-082e5f739565.jpg\n",
      "application_data\\verification_images\\ba458e7a-7235-11ed-8e01-082e5f739565.jpg\n",
      "application_data\\verification_images\\ba460399-7235-11ed-8f77-082e5f739565.jpg\n",
      "application_data\\verification_images\\ba4651ad-7235-11ed-a266-082e5f739565.jpg\n",
      "application_data\\verification_images\\ba46c6d6-7235-11ed-bc4b-082e5f739565.jpg\n",
      "application_data\\verification_images\\ba473bf5-7235-11ed-9544-082e5f739565.jpg\n",
      "application_data\\verification_images\\ba47b0fe-7235-11ed-b7e5-082e5f739565.jpg\n",
      "application_data\\verification_images\\ba48261a-7235-11ed-958e-082e5f739565.jpg\n",
      "application_data\\verification_images\\ba56c9de-7235-11ed-85c5-082e5f739565.jpg\n",
      "application_data\\verification_images\\ba573eec-7235-11ed-a41e-082e5f739565.jpg\n",
      "application_data\\verification_images\\ba57b407-7235-11ed-b527-082e5f739565.jpg\n",
      "application_data\\verification_images\\ba582925-7235-11ed-b3c7-082e5f739565.jpg\n",
      "application_data\\verification_images\\ba587737-7235-11ed-93c8-082e5f739565.jpg\n",
      "application_data\\verification_images\\ba591372-7235-11ed-beb6-082e5f739565.jpg\n",
      "application_data\\verification_images\\ba598893-7235-11ed-b3e7-082e5f739565.jpg\n",
      "application_data\\verification_images\\ba59d69d-7235-11ed-ac68-082e5f739565.jpg\n",
      "application_data\\verification_images\\ba5a4bb9-7235-11ed-918d-082e5f739565.jpg\n",
      "application_data\\verification_images\\ba696486-7235-11ed-bb53-082e5f739565.jpg\n",
      "application_data\\verification_images\\ba6a00b7-7235-11ed-b64c-082e5f739565.jpg\n",
      "application_data\\verification_images\\ba6ac3e1-7235-11ed-abf4-082e5f739565.jpg\n",
      "application_data\\verification_images\\ba6b3904-7235-11ed-83a1-082e5f739565.jpg\n",
      "application_data\\verification_images\\ba6bd529-7235-11ed-b9c1-082e5f739565.jpg\n",
      "application_data\\verification_images\\ba6c4a38-7235-11ed-a235-082e5f739565.jpg\n",
      "application_data\\verification_images\\ba6cbf69-7235-11ed-8557-082e5f739565.jpg\n",
      "application_data\\verification_images\\ba6d3483-7235-11ed-bbc4-082e5f739565.jpg\n",
      "application_data\\verification_images\\ba6dd099-7235-11ed-91af-082e5f739565.jpg\n",
      "application_data\\verification_images\\ba7dd3a8-7235-11ed-9b64-082e5f739565.jpg\n",
      "application_data\\verification_images\\ba7e48c2-7235-11ed-b68a-082e5f739565.jpg\n",
      "application_data\\verification_images\\ba7ee4f9-7235-11ed-80c9-082e5f739565.jpg\n",
      "application_data\\verification_images\\ba7fa816-7235-11ed-a3a6-082e5f739565.jpg\n",
      "application_data\\verification_images\\ba804454-7235-11ed-8fe2-082e5f739565.jpg\n",
      "application_data\\verification_images\\ba80e06d-7235-11ed-bc6c-082e5f739565.jpg\n",
      "application_data\\verification_images\\ba817c92-7235-11ed-a071-082e5f739565.jpg\n",
      "application_data\\verification_images\\ba8218c6-7235-11ed-957b-082e5f739565.jpg\n",
      "application_data\\verification_images\\ba82b4e7-7235-11ed-8830-082e5f739565.jpg\n",
      "application_data\\verification_images\\ba94da9b-7235-11ed-b660-082e5f739565.jpg\n",
      "application_data\\verification_images\\ba954f99-7235-11ed-9b7e-082e5f739565.jpg\n",
      "application_data\\verification_images\\ba95c4ad-7235-11ed-93ba-082e5f739565.jpg\n",
      "application_data\\verification_images\\ba9660df-7235-11ed-bd74-082e5f739565.jpg\n",
      "application_data\\verification_images\\ba96d5fb-7235-11ed-83ff-082e5f739565.jpg\n",
      "application_data\\verification_images\\ba974b20-7235-11ed-aae8-082e5f739565.jpg\n",
      "application_data\\verification_images\\ba97c039-7235-11ed-bd5d-082e5f739565.jpg\n",
      "application_data\\verification_images\\ba983563-7235-11ed-8c32-082e5f739565.jpg\n",
      "application_data\\verification_images\\ba98aa71-7235-11ed-8ed8-082e5f739565.jpg\n",
      "application_data\\verification_images\\baa79c4c-7235-11ed-a1d3-082e5f739565.jpg\n",
      "application_data\\verification_images\\baa8114b-7235-11ed-8c5a-082e5f739565.jpg\n",
      "application_data\\verification_images\\baa922a0-7235-11ed-b27b-082e5f739565.jpg\n",
      "application_data\\verification_images\\baa997b3-7235-11ed-b8c2-082e5f739565.jpg\n",
      "application_data\\verification_images\\baaa0cce-7235-11ed-8827-082e5f739565.jpg\n",
      "application_data\\verification_images\\baaa81f0-7235-11ed-8760-082e5f739565.jpg\n",
      "application_data\\verification_images\\baaaf723-7235-11ed-b913-082e5f739565.jpg\n",
      "application_data\\verification_images\\baab6c21-7235-11ed-bc4f-082e5f739565.jpg\n",
      "application_data\\verification_images\\baabe142-7235-11ed-b296-082e5f739565.jpg\n",
      "application_data\\verification_images\\babdb8c5-7235-11ed-8149-082e5f739565.jpg\n",
      "application_data\\verification_images\\babe54e9-7235-11ed-9bc5-082e5f739565.jpg\n",
      "application_data\\verification_images\\babf1821-7235-11ed-bfda-082e5f739565.jpg\n",
      "application_data\\verification_images\\babfb44a-7235-11ed-9f22-082e5f739565.jpg\n",
      "application_data\\verification_images\\bac0506d-7235-11ed-88fc-082e5f739565.jpg\n",
      "application_data\\verification_images\\bac13aaf-7235-11ed-a132-082e5f739565.jpg\n",
      "application_data\\verification_images\\bac3362b-7235-11ed-9ffa-082e5f739565.jpg\n",
      "application_data\\verification_images\\bac4476e-7235-11ed-8e06-082e5f739565.jpg\n",
      "application_data\\verification_images\\bac4e393-7235-11ed-bc2c-082e5f739565.jpg\n",
      "application_data\\verification_images\\bae9a3fb-7235-11ed-8558-082e5f739565.jpg\n",
      "application_data\\verification_images\\baea3fff-7235-11ed-92ab-082e5f739565.jpg\n"
     ]
    }
   ],
   "source": [
    "for image in os.listdir(os.path.join('application_data', 'verification_images')):\n",
    "    validation_img = os.path.join('application_data', 'verification_images', image)\n",
    "    print(validation_img)"
   ]
  },
  {
   "cell_type": "code",
   "execution_count": 80,
   "metadata": {},
   "outputs": [],
   "source": [
    "def verify(model, detection_threshold, verification_threshold):\n",
    "    # Build results array\n",
    "    results = []\n",
    "    for image in os.listdir(os.path.join('application_data', 'verification_images')):\n",
    "        input_img = preprocess(os.path.join('application_data', 'input_image', 'input_image.jpg'))\n",
    "        validation_img = preprocess(os.path.join('application_data', 'verification_images', image))\n",
    "        \n",
    "        # Make Predictions \n",
    "        result = model.predict(list(np.expand_dims([input_img, validation_img], axis=1)))\n",
    "        results.append(result)\n",
    "    \n",
    "    # Detection Threshold: Metric above which a prediciton is considered positive \n",
    "    detection = np.sum(np.array(results) > detection_threshold)\n",
    "    \n",
    "    # Verification Threshold: Proportion of positive predictions / total positive samples \n",
    "    verification = detection / len(os.listdir(os.path.join('application_data', 'verification_images'))) \n",
    "    verified = verification > verification_threshold\n",
    "    \n",
    "    return results, verified"
   ]
  },
  {
   "cell_type": "markdown",
   "metadata": {},
   "source": [
    "## 8.2 OpenCV Real Time Verification"
   ]
  },
  {
   "cell_type": "markdown",
   "metadata": {},
   "source": [
    "Executando o app, abrindo a webcam, permitindo a captura da imagem para ser comparada no modelo."
   ]
  },
  {
   "cell_type": "code",
   "execution_count": 81,
   "metadata": {
    "scrolled": true
   },
   "outputs": [
    {
     "name": "stdout",
     "output_type": "stream",
     "text": [
      "True\n",
      "True\n",
      "True\n",
      "False\n",
      "True\n",
      "False\n",
      "True\n",
      "True\n",
      "False\n",
      "True\n",
      "True\n",
      "False\n"
     ]
    }
   ],
   "source": [
    "cap = cv2.VideoCapture(0)\n",
    "while cap.isOpened():\n",
    "    ret, frame = cap.read()\n",
    "    frame = frame[120:120+250,200:200+250, :]\n",
    "    \n",
    "    cv2.imshow('Verification', frame)\n",
    "    \n",
    "    # Verification trigger\n",
    "    if cv2.waitKey(10) & 0xFF == ord('v'):\n",
    "        # Save input image to application_data/input_image folder \n",
    "#         hsv = cv2.cvtColor(frame, cv2.COLOR_BGR2HSV)\n",
    "#         h, s, v = cv2.split(hsv)\n",
    "\n",
    "#         lim = 255 - 10\n",
    "#         v[v > lim] = 255\n",
    "#         v[v <= lim] -= 10\n",
    "        \n",
    "#         final_hsv = cv2.merge((h, s, v))\n",
    "#         img = cv2.cvtColor(final_hsv, cv2.COLOR_HSV2BGR)\n",
    "\n",
    "        cv2.imwrite(os.path.join('application_data', 'input_image', 'input_image.jpg'), frame)\n",
    "        # Run verification\n",
    "        results, verified = verify(siamese_model, 0.5, 0.5)\n",
    "        print(verified)\n",
    "    \n",
    "    if cv2.waitKey(10) & 0xFF == ord('q'):\n",
    "        break\n",
    "cap.release()\n",
    "cv2.destroyAllWindows()"
   ]
  },
  {
   "cell_type": "markdown",
   "metadata": {},
   "source": [
    "Resultados de cada teste feito com a rede neural em tempo real.\n",
    "\n",
    "TRUE: Pessoa reconhecida.\n",
    "\n",
    "FALSE: Pessoa NÃO reconhecida."
   ]
  },
  {
   "cell_type": "code",
   "execution_count": 1,
   "metadata": {},
   "outputs": [
    {
     "ename": "NameError",
     "evalue": "name 'np' is not defined",
     "output_type": "error",
     "traceback": [
      "\u001b[1;31m---------------------------------------------------------------------------\u001b[0m",
      "\u001b[1;31mNameError\u001b[0m                                 Traceback (most recent call last)",
      "\u001b[1;32m~\\AppData\\Local\\Temp\\ipykernel_4192\\2596018393.py\u001b[0m in \u001b[0;36m<module>\u001b[1;34m\u001b[0m\n\u001b[1;32m----> 1\u001b[1;33m \u001b[0mnp\u001b[0m\u001b[1;33m.\u001b[0m\u001b[0msum\u001b[0m\u001b[1;33m(\u001b[0m\u001b[0mnp\u001b[0m\u001b[1;33m.\u001b[0m\u001b[0msqueeze\u001b[0m\u001b[1;33m(\u001b[0m\u001b[0mresults\u001b[0m\u001b[1;33m)\u001b[0m \u001b[1;33m>\u001b[0m \u001b[1;36m0.9\u001b[0m\u001b[1;33m)\u001b[0m\u001b[1;33m\u001b[0m\u001b[1;33m\u001b[0m\u001b[0m\n\u001b[0m",
      "\u001b[1;31mNameError\u001b[0m: name 'np' is not defined"
     ]
    }
   ],
   "source": [
    "np.sum(np.squeeze(results) > 0.9)"
   ]
  },
  {
   "cell_type": "code",
   "execution_count": 83,
   "metadata": {
    "scrolled": true
   },
   "outputs": [
    {
     "data": {
      "text/plain": [
       "[array([[4.1648207e-05]], dtype=float32),\n",
       " array([[7.211093e-05]], dtype=float32),\n",
       " array([[0.00011932]], dtype=float32),\n",
       " array([[3.923508e-06]], dtype=float32),\n",
       " array([[1.0145925e-06]], dtype=float32),\n",
       " array([[3.2003336e-05]], dtype=float32),\n",
       " array([[1.3745089e-05]], dtype=float32),\n",
       " array([[2.4269495e-05]], dtype=float32),\n",
       " array([[9.2645087e-07]], dtype=float32),\n",
       " array([[7.087234e-07]], dtype=float32),\n",
       " array([[4.502708e-05]], dtype=float32),\n",
       " array([[7.107927e-05]], dtype=float32),\n",
       " array([[0.00014433]], dtype=float32),\n",
       " array([[6.4912376e-05]], dtype=float32),\n",
       " array([[1.4065248e-05]], dtype=float32),\n",
       " array([[2.1747588e-05]], dtype=float32),\n",
       " array([[3.1421334e-06]], dtype=float32),\n",
       " array([[4.621514e-06]], dtype=float32),\n",
       " array([[1.5181279e-05]], dtype=float32),\n",
       " array([[8.9212945e-06]], dtype=float32),\n",
       " array([[2.7141976e-05]], dtype=float32),\n",
       " array([[5.150932e-05]], dtype=float32),\n",
       " array([[1.0338825e-06]], dtype=float32),\n",
       " array([[3.1048098e-06]], dtype=float32),\n",
       " array([[1.0516602e-06]], dtype=float32),\n",
       " array([[2.7435804e-06]], dtype=float32),\n",
       " array([[1.8025523e-06]], dtype=float32),\n",
       " array([[6.0695443e-06]], dtype=float32),\n",
       " array([[1.1732626e-05]], dtype=float32),\n",
       " array([[1.2706965e-05]], dtype=float32),\n",
       " array([[6.3936145e-06]], dtype=float32),\n",
       " array([[1.5847107e-05]], dtype=float32),\n",
       " array([[9.5127535e-07]], dtype=float32),\n",
       " array([[2.5353725e-06]], dtype=float32),\n",
       " array([[2.5991458e-06]], dtype=float32),\n",
       " array([[3.5037158e-06]], dtype=float32),\n",
       " array([[2.7457738e-06]], dtype=float32),\n",
       " array([[5.6926106e-06]], dtype=float32),\n",
       " array([[5.8732206e-07]], dtype=float32),\n",
       " array([[4.6344348e-07]], dtype=float32),\n",
       " array([[9.223467e-06]], dtype=float32),\n",
       " array([[3.0175672e-06]], dtype=float32),\n",
       " array([[4.5451243e-06]], dtype=float32),\n",
       " array([[8.97911e-07]], dtype=float32),\n",
       " array([[4.2271463e-06]], dtype=float32),\n",
       " array([[1.7455865e-06]], dtype=float32),\n",
       " array([[7.720597e-06]], dtype=float32),\n",
       " array([[5.048041e-06]], dtype=float32),\n",
       " array([[1.0125134e-06]], dtype=float32),\n",
       " array([[1.1932029e-06]], dtype=float32),\n",
       " array([[5.950715e-07]], dtype=float32),\n",
       " array([[5.5215255e-06]], dtype=float32),\n",
       " array([[4.990883e-07]], dtype=float32),\n",
       " array([[3.7858032e-07]], dtype=float32),\n",
       " array([[3.389209e-07]], dtype=float32),\n",
       " array([[4.611254e-07]], dtype=float32),\n",
       " array([[4.9659e-07]], dtype=float32),\n",
       " array([[4.1448366e-06]], dtype=float32),\n",
       " array([[3.1146665e-05]], dtype=float32),\n",
       " array([[1.2621174e-06]], dtype=float32),\n",
       " array([[1.737108e-05]], dtype=float32),\n",
       " array([[0.0001334]], dtype=float32),\n",
       " array([[4.2344596e-05]], dtype=float32),\n",
       " array([[6.515879e-05]], dtype=float32),\n",
       " array([[3.7650266e-06]], dtype=float32),\n",
       " array([[1.991434e-06]], dtype=float32),\n",
       " array([[0.98676944]], dtype=float32),\n",
       " array([[0.9928483]], dtype=float32),\n",
       " array([[0.05595323]], dtype=float32),\n",
       " array([[0.9964324]], dtype=float32),\n",
       " array([[0.9978498]], dtype=float32),\n",
       " array([[0.7761598]], dtype=float32),\n",
       " array([[0.9984199]], dtype=float32),\n",
       " array([[0.9990928]], dtype=float32),\n",
       " array([[0.9992481]], dtype=float32),\n",
       " array([[0.96336734]], dtype=float32),\n",
       " array([[0.08512554]], dtype=float32),\n",
       " array([[0.36962855]], dtype=float32),\n",
       " array([[0.66055983]], dtype=float32),\n",
       " array([[0.99806666]], dtype=float32),\n",
       " array([[0.99854875]], dtype=float32),\n",
       " array([[0.98556197]], dtype=float32),\n",
       " array([[0.9993434]], dtype=float32),\n",
       " array([[0.9995959]], dtype=float32),\n",
       " array([[2.2965528e-06]], dtype=float32),\n",
       " array([[0.4529908]], dtype=float32),\n",
       " array([[5.48476e-05]], dtype=float32),\n",
       " array([[0.00021148]], dtype=float32),\n",
       " array([[0.87458426]], dtype=float32),\n",
       " array([[0.9271352]], dtype=float32),\n",
       " array([[0.02647117]], dtype=float32),\n",
       " array([[0.9844215]], dtype=float32),\n",
       " array([[0.39859042]], dtype=float32),\n",
       " array([[0.9918703]], dtype=float32),\n",
       " array([[4.611971e-07]], dtype=float32),\n",
       " array([[0.9974164]], dtype=float32),\n",
       " array([[0.9980465]], dtype=float32),\n",
       " array([[2.9811876e-05]], dtype=float32),\n",
       " array([[0.99858904]], dtype=float32),\n",
       " array([[0.9990163]], dtype=float32),\n",
       " array([[0.00520933]], dtype=float32),\n",
       " array([[0.0485602]], dtype=float32),\n",
       " array([[0.9715679]], dtype=float32),\n",
       " array([[0.9870988]], dtype=float32),\n",
       " array([[0.9931284]], dtype=float32),\n",
       " array([[0.9954408]], dtype=float32),\n",
       " array([[0.99572086]], dtype=float32),\n",
       " array([[0.99740374]], dtype=float32),\n",
       " array([[0.9975985]], dtype=float32),\n",
       " array([[0.99872065]], dtype=float32),\n",
       " array([[0.9992548]], dtype=float32),\n",
       " array([[2.6590766e-07]], dtype=float32),\n",
       " array([[0.9989758]], dtype=float32),\n",
       " array([[0.9993088]], dtype=float32),\n",
       " array([[0.9996815]], dtype=float32),\n",
       " array([[0.9997623]], dtype=float32),\n",
       " array([[0.00105867]], dtype=float32),\n",
       " array([[0.99985397]], dtype=float32),\n",
       " array([[0.086178]], dtype=float32),\n",
       " array([[0.9999044]], dtype=float32),\n",
       " array([[0.9543319]], dtype=float32),\n",
       " array([[0.9770231]], dtype=float32),\n",
       " array([[0.01790443]], dtype=float32),\n",
       " array([[0.9874287]], dtype=float32),\n",
       " array([[0.10506862]], dtype=float32),\n",
       " array([[0.9945005]], dtype=float32),\n",
       " array([[0.9964168]], dtype=float32),\n",
       " array([[0.9981591]], dtype=float32),\n",
       " array([[0.9984684]], dtype=float32),\n",
       " array([[0.99883556]], dtype=float32),\n",
       " array([[4.4223688e-07]], dtype=float32),\n",
       " array([[0.9992775]], dtype=float32),\n",
       " array([[1.4506296e-06]], dtype=float32),\n",
       " array([[0.99951625]], dtype=float32),\n",
       " array([[0.9995683]], dtype=float32),\n",
       " array([[0.00012666]], dtype=float32),\n",
       " array([[0.9996765]], dtype=float32),\n",
       " array([[0.99967587]], dtype=float32),\n",
       " array([[0.99948955]], dtype=float32),\n",
       " array([[3.686907e-07]], dtype=float32),\n",
       " array([[7.8081376e-07]], dtype=float32),\n",
       " array([[1.9121942e-06]], dtype=float32),\n",
       " array([[0.9994848]], dtype=float32),\n",
       " array([[0.9995792]], dtype=float32),\n",
       " array([[0.00014201]], dtype=float32),\n",
       " array([[0.99951535]], dtype=float32),\n",
       " array([[0.9995334]], dtype=float32),\n",
       " array([[0.17764321]], dtype=float32),\n",
       " array([[0.99921143]], dtype=float32),\n",
       " array([[0.99950653]], dtype=float32),\n",
       " array([[0.9996501]], dtype=float32),\n",
       " array([[0.9996867]], dtype=float32),\n",
       " array([[0.999763]], dtype=float32),\n",
       " array([[0.9876736]], dtype=float32),\n",
       " array([[0.9923409]], dtype=float32),\n",
       " array([[0.9997971]], dtype=float32),\n",
       " array([[0.9956447]], dtype=float32),\n",
       " array([[0.9971361]], dtype=float32),\n",
       " array([[4.0394127e-07]], dtype=float32),\n",
       " array([[0.99919987]], dtype=float32),\n",
       " array([[2.690048e-06]], dtype=float32),\n",
       " array([[2.2225091e-05]], dtype=float32),\n",
       " array([[0.00012356]], dtype=float32),\n",
       " array([[0.00045902]], dtype=float32),\n",
       " array([[0.00247836]], dtype=float32),\n",
       " array([[5.640712e-07]], dtype=float32),\n",
       " array([[9.990495e-07]], dtype=float32),\n",
       " array([[4.797034e-06]], dtype=float32),\n",
       " array([[1.6468251e-05]], dtype=float32),\n",
       " array([[7.858069e-05]], dtype=float32),\n",
       " array([[0.00031757]], dtype=float32),\n",
       " array([[0.9998782]], dtype=float32),\n",
       " array([[0.00650528]], dtype=float32),\n",
       " array([[0.99992216]], dtype=float32),\n",
       " array([[3.5768398e-06]], dtype=float32),\n",
       " array([[8.480173e-07]], dtype=float32),\n",
       " array([[0.99942017]], dtype=float32),\n",
       " array([[5.1625426e-07]], dtype=float32),\n",
       " array([[0.9996481]], dtype=float32),\n",
       " array([[3.2240548e-06]], dtype=float32),\n",
       " array([[0.9996511]], dtype=float32),\n",
       " array([[0.9996761]], dtype=float32),\n",
       " array([[0.00039449]], dtype=float32),\n",
       " array([[9.842624e-07]], dtype=float32),\n",
       " array([[0.99689627]], dtype=float32),\n",
       " array([[0.997863]], dtype=float32),\n",
       " array([[0.9983096]], dtype=float32),\n",
       " array([[0.99869037]], dtype=float32),\n",
       " array([[0.9989767]], dtype=float32),\n",
       " array([[0.99916375]], dtype=float32),\n",
       " array([[0.00911713]], dtype=float32),\n",
       " array([[0.99939597]], dtype=float32),\n",
       " array([[1.8056649e-06]], dtype=float32),\n",
       " array([[0.9923599]], dtype=float32),\n",
       " array([[1.5211256e-06]], dtype=float32),\n",
       " array([[0.9963918]], dtype=float32),\n",
       " array([[2.7340353e-05]], dtype=float32),\n",
       " array([[0.000173]], dtype=float32),\n",
       " array([[0.0008769]], dtype=float32),\n",
       " array([[0.99890876]], dtype=float32),\n",
       " array([[0.02259618]], dtype=float32),\n",
       " array([[0.98994714]], dtype=float32),\n",
       " array([[4.513357e-07]], dtype=float32),\n",
       " array([[0.99813837]], dtype=float32),\n",
       " array([[4.190045e-06]], dtype=float32),\n",
       " array([[0.9990097]], dtype=float32),\n",
       " array([[0.000106]], dtype=float32),\n",
       " array([[0.99905336]], dtype=float32),\n",
       " array([[0.99916077]], dtype=float32),\n",
       " array([[0.01346031]], dtype=float32),\n",
       " array([[0.9973632]], dtype=float32),\n",
       " array([[0.9987521]], dtype=float32),\n",
       " array([[0.99969715]], dtype=float32),\n",
       " array([[4.4687073e-07]], dtype=float32),\n",
       " array([[0.9991346]], dtype=float32),\n",
       " array([[0.99940735]], dtype=float32),\n",
       " array([[0.99959654]], dtype=float32),\n",
       " array([[0.00020477]], dtype=float32),\n",
       " array([[0.00112885]], dtype=float32),\n",
       " array([[0.00879604]], dtype=float32),\n",
       " array([[0.9998028]], dtype=float32),\n",
       " array([[0.9998368]], dtype=float32),\n",
       " array([[0.00031567]], dtype=float32),\n",
       " array([[0.9980426]], dtype=float32),\n",
       " array([[0.00871065]], dtype=float32),\n",
       " array([[0.0461399]], dtype=float32),\n",
       " array([[0.99942374]], dtype=float32),\n",
       " array([[0.99967676]], dtype=float32),\n",
       " array([[0.9997481]], dtype=float32),\n",
       " array([[0.8987098]], dtype=float32),\n",
       " array([[0.9273225]], dtype=float32),\n",
       " array([[9.291044e-07]], dtype=float32),\n",
       " array([[1.7568394e-06]], dtype=float32),\n",
       " array([[5.0549443e-06]], dtype=float32),\n",
       " array([[2.7955099e-05]], dtype=float32),\n",
       " array([[0.00013587]], dtype=float32),\n",
       " array([[0.99984384]], dtype=float32),\n",
       " array([[0.00199515]], dtype=float32),\n",
       " array([[0.99984837]], dtype=float32),\n",
       " array([[0.99985695]], dtype=float32),\n",
       " array([[0.9971996]], dtype=float32),\n",
       " array([[0.998518]], dtype=float32),\n",
       " array([[0.99921]], dtype=float32),\n",
       " array([[1.02279055e-05]], dtype=float32),\n",
       " array([[0.99942386]], dtype=float32),\n",
       " array([[0.00015873]], dtype=float32),\n",
       " array([[0.9996258]], dtype=float32),\n",
       " array([[0.00730088]], dtype=float32),\n",
       " array([[0.02204719]], dtype=float32),\n",
       " array([[0.00147632]], dtype=float32),\n",
       " array([[0.9994863]], dtype=float32),\n",
       " array([[0.06023458]], dtype=float32),\n",
       " array([[0.99970984]], dtype=float32),\n",
       " array([[0.99980104]], dtype=float32),\n",
       " array([[0.7494056]], dtype=float32),\n",
       " array([[0.9998621]], dtype=float32),\n",
       " array([[0.999874]], dtype=float32),\n",
       " array([[0.9998901]], dtype=float32),\n",
       " array([[5.9105782e-06]], dtype=float32),\n",
       " array([[6.1623655e-07]], dtype=float32),\n",
       " array([[0.9996768]], dtype=float32),\n",
       " array([[0.99977756]], dtype=float32),\n",
       " array([[0.99980766]], dtype=float32),\n",
       " array([[1.9776588e-05]], dtype=float32),\n",
       " array([[0.00016728]], dtype=float32),\n",
       " array([[0.9998947]], dtype=float32),\n",
       " array([[0.00283757]], dtype=float32),\n",
       " array([[0.0065473]], dtype=float32),\n",
       " array([[0.9995531]], dtype=float32),\n",
       " array([[0.1408791]], dtype=float32),\n",
       " array([[0.99958193]], dtype=float32),\n",
       " array([[0.99960935]], dtype=float32),\n",
       " array([[0.9995862]], dtype=float32),\n",
       " array([[0.9996333]], dtype=float32),\n",
       " array([[0.9997064]], dtype=float32),\n",
       " array([[0.99976]], dtype=float32),\n",
       " array([[6.106045e-06]], dtype=float32),\n",
       " array([[5.910378e-07]], dtype=float32),\n",
       " array([[0.9997325]], dtype=float32),\n",
       " array([[0.9998206]], dtype=float32),\n",
       " array([[0.9998434]], dtype=float32),\n",
       " array([[5.9978765e-06]], dtype=float32),\n",
       " array([[1.8208051e-05]], dtype=float32),\n",
       " array([[0.9998946]], dtype=float32),\n",
       " array([[0.9998903]], dtype=float32),\n",
       " array([[7.1924325e-07]], dtype=float32),\n",
       " array([[0.9995929]], dtype=float32),\n",
       " array([[0.99973744]], dtype=float32),\n",
       " array([[2.8660436e-06]], dtype=float32),\n",
       " array([[0.99983394]], dtype=float32),\n",
       " array([[0.99986494]], dtype=float32),\n",
       " array([[0.99988294]], dtype=float32),\n",
       " array([[0.00275555]], dtype=float32),\n",
       " array([[0.99990374]], dtype=float32),\n",
       " array([[6.3917305e-06]], dtype=float32),\n",
       " array([[0.9996818]], dtype=float32),\n",
       " array([[3.9783427e-07]], dtype=float32),\n",
       " array([[0.9998603]], dtype=float32),\n",
       " array([[3.5863422e-06]], dtype=float32),\n",
       " array([[2.4781399e-05]], dtype=float32),\n",
       " array([[0.99993]], dtype=float32),\n",
       " array([[0.9999285]], dtype=float32),\n",
       " array([[0.02631775]], dtype=float32),\n",
       " array([[0.9754259]], dtype=float32),\n",
       " array([[9.3814964e-07]], dtype=float32),\n",
       " array([[4.1816276e-07]], dtype=float32),\n",
       " array([[0.994699]], dtype=float32),\n",
       " array([[0.9950181]], dtype=float32),\n",
       " array([[0.9964776]], dtype=float32),\n",
       " array([[0.99752283]], dtype=float32),\n",
       " array([[0.00011541]], dtype=float32),\n",
       " array([[0.9982177]], dtype=float32),\n",
       " array([[0.99852335]], dtype=float32),\n",
       " array([[0.9992019]], dtype=float32)]"
      ]
     },
     "execution_count": 83,
     "metadata": {},
     "output_type": "execute_result"
    }
   ],
   "source": [
    "results"
   ]
  },
  {
   "cell_type": "markdown",
   "metadata": {},
   "source": [
    "# Considerações Finais"
   ]
  },
  {
   "cell_type": "markdown",
   "metadata": {},
   "source": [
    "Este código foi reproduzido de Nicholas Renotte, extraído do vídeo no Youtube intitulado de \"Build a Python Facial Recognition App with Tensorflow and Kivy\".\n",
    "\n",
    "Foi desenvolvida uma rede neural siamesa one shot, baseada em um artigo científico de 2015, intitulado por \"Siamese Neural Networks for One-shot Image Recognition\" dos autores Gregory Koch, Richard Zemel e Ruslan Salakhutdinov, da Universidade de Toronto. Portanto, o objetivo deste código é implementar esta rede em python para a realização de reconhecimento facial, a partir de uma imagem capturada em tempo real.\n",
    "\n",
    "Após alguns ajustes para a execução em uma máquina local, o app conseguiu cumprir seu objetivo em reconhecer um indivíduo quando executado de forma eficaz, mesmo que tenha apresentado (minimamente) falso-positivo e falso-negativo em testes realizados."
   ]
  }
 ],
 "metadata": {
  "kernelspec": {
   "display_name": "Python 3 (ipykernel)",
   "language": "python",
   "name": "python3"
  },
  "language_info": {
   "codemirror_mode": {
    "name": "ipython",
    "version": 3
   },
   "file_extension": ".py",
   "mimetype": "text/x-python",
   "name": "python",
   "nbconvert_exporter": "python",
   "pygments_lexer": "ipython3",
   "version": "3.9.13"
  }
 },
 "nbformat": 4,
 "nbformat_minor": 4
}
